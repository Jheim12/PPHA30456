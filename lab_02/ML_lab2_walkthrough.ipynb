{
  "cells": [
    {
      "cell_type": "markdown",
      "metadata": {
        "id": "view-in-github",
        "colab_type": "text"
      },
      "source": [
        "<a href=\"https://colab.research.google.com/github/Jheim12/PPHA30456/blob/main/lab_02/ML_lab2_walkthrough.ipynb\" target=\"_parent\"><img src=\"https://colab.research.google.com/assets/colab-badge.svg\" alt=\"Open In Colab\"/></a>"
      ]
    },
    {
      "cell_type": "markdown",
      "metadata": {
        "id": "FfCWbeK8h_uA"
      },
      "source": [
        "# 1. Obtaining data from the Internet"
      ]
    },
    {
      "cell_type": "markdown",
      "metadata": {
        "id": "WNUF2k-jh_uI"
      },
      "source": [
        "### First, navigate to the IPUMS USA website: https://usa.ipums.org/usa/index.shtml."
      ]
    },
    {
      "cell_type": "code",
      "execution_count": 1,
      "metadata": {
        "id": "Y8Uwwi4eh_uJ"
      },
      "outputs": [],
      "source": [
        "# Import required libraries\n",
        "import numpy as np\n",
        "import pandas as pd\n",
        "\n",
        "# Display all columns in pandas\n",
        "pd.set_option('display.max_columns', None)"
      ]
    },
    {
      "cell_type": "markdown",
      "metadata": {
        "id": "FUrzdKJQh_uL"
      },
      "source": [
        "# 2. Preparing and Cleaning that data"
      ]
    },
    {
      "cell_type": "code",
      "execution_count": 2,
      "metadata": {
        "colab": {
          "base_uri": "https://localhost:8080/",
          "height": 270
        },
        "id": "2KRhGBq_h_uL",
        "outputId": "8bbbc2f5-d603-46c8-cc07-5a5b4adbca98"
      },
      "outputs": [
        {
          "output_type": "execute_result",
          "data": {
            "text/plain": [
              "   YEAR  SAMPLE  SERIAL       CBSERIAL     HHWT        CLUSTER  STRATA  GQ  \\\n",
              "0  2019  201901     658  2019010040132   3096.0  2019000006581  200001   4   \n",
              "1  2019  201901     968  2019010060553  13312.8  2019000009681  270201   4   \n",
              "2  2019  201901    2516  2019000008356  13312.8  2019000025161  240001   1   \n",
              "3  2019  201901    2670  2019000020711  11300.4  2019000026701  100001   1   \n",
              "4  2019  201901    2670  2019000020711  11300.4  2019000026701  100001   1   \n",
              "\n",
              "   PERNUM    PERWT  NCHILD  NCHLT5  SEX  AGE  MARST  RACE  RACED  HISPAN  \\\n",
              "0       1   3096.0       0       0    1   49      6     1    100       0   \n",
              "1       1  13312.8       0       0    1   21      6     2    200       0   \n",
              "2       2  12384.0       2       2    1   26      6     1    100       4   \n",
              "3       2  23529.6       0       0    1   36      6     1    100       0   \n",
              "4       3  23374.8       0       0    1   35      6     1    100       0   \n",
              "\n",
              "   HISPAND  EDUC  EDUCD  EMPSTAT  EMPSTATD  INCWAGE  VETSTAT  VETSTATD  \n",
              "0        0     2     26        1        10     1700        1        11  \n",
              "1        0     7     71        1        10    12200        1        11  \n",
              "2      416     6     63        1        10    40000        1        11  \n",
              "3        0     4     40        1        10    30000        1        11  \n",
              "4        0     4     40        1        10    18200        1        11  "
            ],
            "text/html": [
              "\n",
              "  <div id=\"df-904576a3-1696-402e-9ad3-78ba7a4fc44f\">\n",
              "    <div class=\"colab-df-container\">\n",
              "      <div>\n",
              "<style scoped>\n",
              "    .dataframe tbody tr th:only-of-type {\n",
              "        vertical-align: middle;\n",
              "    }\n",
              "\n",
              "    .dataframe tbody tr th {\n",
              "        vertical-align: top;\n",
              "    }\n",
              "\n",
              "    .dataframe thead th {\n",
              "        text-align: right;\n",
              "    }\n",
              "</style>\n",
              "<table border=\"1\" class=\"dataframe\">\n",
              "  <thead>\n",
              "    <tr style=\"text-align: right;\">\n",
              "      <th></th>\n",
              "      <th>YEAR</th>\n",
              "      <th>SAMPLE</th>\n",
              "      <th>SERIAL</th>\n",
              "      <th>CBSERIAL</th>\n",
              "      <th>HHWT</th>\n",
              "      <th>CLUSTER</th>\n",
              "      <th>STRATA</th>\n",
              "      <th>GQ</th>\n",
              "      <th>PERNUM</th>\n",
              "      <th>PERWT</th>\n",
              "      <th>NCHILD</th>\n",
              "      <th>NCHLT5</th>\n",
              "      <th>SEX</th>\n",
              "      <th>AGE</th>\n",
              "      <th>MARST</th>\n",
              "      <th>RACE</th>\n",
              "      <th>RACED</th>\n",
              "      <th>HISPAN</th>\n",
              "      <th>HISPAND</th>\n",
              "      <th>EDUC</th>\n",
              "      <th>EDUCD</th>\n",
              "      <th>EMPSTAT</th>\n",
              "      <th>EMPSTATD</th>\n",
              "      <th>INCWAGE</th>\n",
              "      <th>VETSTAT</th>\n",
              "      <th>VETSTATD</th>\n",
              "    </tr>\n",
              "  </thead>\n",
              "  <tbody>\n",
              "    <tr>\n",
              "      <th>0</th>\n",
              "      <td>2019</td>\n",
              "      <td>201901</td>\n",
              "      <td>658</td>\n",
              "      <td>2019010040132</td>\n",
              "      <td>3096.0</td>\n",
              "      <td>2019000006581</td>\n",
              "      <td>200001</td>\n",
              "      <td>4</td>\n",
              "      <td>1</td>\n",
              "      <td>3096.0</td>\n",
              "      <td>0</td>\n",
              "      <td>0</td>\n",
              "      <td>1</td>\n",
              "      <td>49</td>\n",
              "      <td>6</td>\n",
              "      <td>1</td>\n",
              "      <td>100</td>\n",
              "      <td>0</td>\n",
              "      <td>0</td>\n",
              "      <td>2</td>\n",
              "      <td>26</td>\n",
              "      <td>1</td>\n",
              "      <td>10</td>\n",
              "      <td>1700</td>\n",
              "      <td>1</td>\n",
              "      <td>11</td>\n",
              "    </tr>\n",
              "    <tr>\n",
              "      <th>1</th>\n",
              "      <td>2019</td>\n",
              "      <td>201901</td>\n",
              "      <td>968</td>\n",
              "      <td>2019010060553</td>\n",
              "      <td>13312.8</td>\n",
              "      <td>2019000009681</td>\n",
              "      <td>270201</td>\n",
              "      <td>4</td>\n",
              "      <td>1</td>\n",
              "      <td>13312.8</td>\n",
              "      <td>0</td>\n",
              "      <td>0</td>\n",
              "      <td>1</td>\n",
              "      <td>21</td>\n",
              "      <td>6</td>\n",
              "      <td>2</td>\n",
              "      <td>200</td>\n",
              "      <td>0</td>\n",
              "      <td>0</td>\n",
              "      <td>7</td>\n",
              "      <td>71</td>\n",
              "      <td>1</td>\n",
              "      <td>10</td>\n",
              "      <td>12200</td>\n",
              "      <td>1</td>\n",
              "      <td>11</td>\n",
              "    </tr>\n",
              "    <tr>\n",
              "      <th>2</th>\n",
              "      <td>2019</td>\n",
              "      <td>201901</td>\n",
              "      <td>2516</td>\n",
              "      <td>2019000008356</td>\n",
              "      <td>13312.8</td>\n",
              "      <td>2019000025161</td>\n",
              "      <td>240001</td>\n",
              "      <td>1</td>\n",
              "      <td>2</td>\n",
              "      <td>12384.0</td>\n",
              "      <td>2</td>\n",
              "      <td>2</td>\n",
              "      <td>1</td>\n",
              "      <td>26</td>\n",
              "      <td>6</td>\n",
              "      <td>1</td>\n",
              "      <td>100</td>\n",
              "      <td>4</td>\n",
              "      <td>416</td>\n",
              "      <td>6</td>\n",
              "      <td>63</td>\n",
              "      <td>1</td>\n",
              "      <td>10</td>\n",
              "      <td>40000</td>\n",
              "      <td>1</td>\n",
              "      <td>11</td>\n",
              "    </tr>\n",
              "    <tr>\n",
              "      <th>3</th>\n",
              "      <td>2019</td>\n",
              "      <td>201901</td>\n",
              "      <td>2670</td>\n",
              "      <td>2019000020711</td>\n",
              "      <td>11300.4</td>\n",
              "      <td>2019000026701</td>\n",
              "      <td>100001</td>\n",
              "      <td>1</td>\n",
              "      <td>2</td>\n",
              "      <td>23529.6</td>\n",
              "      <td>0</td>\n",
              "      <td>0</td>\n",
              "      <td>1</td>\n",
              "      <td>36</td>\n",
              "      <td>6</td>\n",
              "      <td>1</td>\n",
              "      <td>100</td>\n",
              "      <td>0</td>\n",
              "      <td>0</td>\n",
              "      <td>4</td>\n",
              "      <td>40</td>\n",
              "      <td>1</td>\n",
              "      <td>10</td>\n",
              "      <td>30000</td>\n",
              "      <td>1</td>\n",
              "      <td>11</td>\n",
              "    </tr>\n",
              "    <tr>\n",
              "      <th>4</th>\n",
              "      <td>2019</td>\n",
              "      <td>201901</td>\n",
              "      <td>2670</td>\n",
              "      <td>2019000020711</td>\n",
              "      <td>11300.4</td>\n",
              "      <td>2019000026701</td>\n",
              "      <td>100001</td>\n",
              "      <td>1</td>\n",
              "      <td>3</td>\n",
              "      <td>23374.8</td>\n",
              "      <td>0</td>\n",
              "      <td>0</td>\n",
              "      <td>1</td>\n",
              "      <td>35</td>\n",
              "      <td>6</td>\n",
              "      <td>1</td>\n",
              "      <td>100</td>\n",
              "      <td>0</td>\n",
              "      <td>0</td>\n",
              "      <td>4</td>\n",
              "      <td>40</td>\n",
              "      <td>1</td>\n",
              "      <td>10</td>\n",
              "      <td>18200</td>\n",
              "      <td>1</td>\n",
              "      <td>11</td>\n",
              "    </tr>\n",
              "  </tbody>\n",
              "</table>\n",
              "</div>\n",
              "      <button class=\"colab-df-convert\" onclick=\"convertToInteractive('df-904576a3-1696-402e-9ad3-78ba7a4fc44f')\"\n",
              "              title=\"Convert this dataframe to an interactive table.\"\n",
              "              style=\"display:none;\">\n",
              "        \n",
              "  <svg xmlns=\"http://www.w3.org/2000/svg\" height=\"24px\"viewBox=\"0 0 24 24\"\n",
              "       width=\"24px\">\n",
              "    <path d=\"M0 0h24v24H0V0z\" fill=\"none\"/>\n",
              "    <path d=\"M18.56 5.44l.94 2.06.94-2.06 2.06-.94-2.06-.94-.94-2.06-.94 2.06-2.06.94zm-11 1L8.5 8.5l.94-2.06 2.06-.94-2.06-.94L8.5 2.5l-.94 2.06-2.06.94zm10 10l.94 2.06.94-2.06 2.06-.94-2.06-.94-.94-2.06-.94 2.06-2.06.94z\"/><path d=\"M17.41 7.96l-1.37-1.37c-.4-.4-.92-.59-1.43-.59-.52 0-1.04.2-1.43.59L10.3 9.45l-7.72 7.72c-.78.78-.78 2.05 0 2.83L4 21.41c.39.39.9.59 1.41.59.51 0 1.02-.2 1.41-.59l7.78-7.78 2.81-2.81c.8-.78.8-2.07 0-2.86zM5.41 20L4 18.59l7.72-7.72 1.47 1.35L5.41 20z\"/>\n",
              "  </svg>\n",
              "      </button>\n",
              "      \n",
              "  <style>\n",
              "    .colab-df-container {\n",
              "      display:flex;\n",
              "      flex-wrap:wrap;\n",
              "      gap: 12px;\n",
              "    }\n",
              "\n",
              "    .colab-df-convert {\n",
              "      background-color: #E8F0FE;\n",
              "      border: none;\n",
              "      border-radius: 50%;\n",
              "      cursor: pointer;\n",
              "      display: none;\n",
              "      fill: #1967D2;\n",
              "      height: 32px;\n",
              "      padding: 0 0 0 0;\n",
              "      width: 32px;\n",
              "    }\n",
              "\n",
              "    .colab-df-convert:hover {\n",
              "      background-color: #E2EBFA;\n",
              "      box-shadow: 0px 1px 2px rgba(60, 64, 67, 0.3), 0px 1px 3px 1px rgba(60, 64, 67, 0.15);\n",
              "      fill: #174EA6;\n",
              "    }\n",
              "\n",
              "    [theme=dark] .colab-df-convert {\n",
              "      background-color: #3B4455;\n",
              "      fill: #D2E3FC;\n",
              "    }\n",
              "\n",
              "    [theme=dark] .colab-df-convert:hover {\n",
              "      background-color: #434B5C;\n",
              "      box-shadow: 0px 1px 3px 1px rgba(0, 0, 0, 0.15);\n",
              "      filter: drop-shadow(0px 1px 2px rgba(0, 0, 0, 0.3));\n",
              "      fill: #FFFFFF;\n",
              "    }\n",
              "  </style>\n",
              "\n",
              "      <script>\n",
              "        const buttonEl =\n",
              "          document.querySelector('#df-904576a3-1696-402e-9ad3-78ba7a4fc44f button.colab-df-convert');\n",
              "        buttonEl.style.display =\n",
              "          google.colab.kernel.accessAllowed ? 'block' : 'none';\n",
              "\n",
              "        async function convertToInteractive(key) {\n",
              "          const element = document.querySelector('#df-904576a3-1696-402e-9ad3-78ba7a4fc44f');\n",
              "          const dataTable =\n",
              "            await google.colab.kernel.invokeFunction('convertToInteractive',\n",
              "                                                     [key], {});\n",
              "          if (!dataTable) return;\n",
              "\n",
              "          const docLinkHtml = 'Like what you see? Visit the ' +\n",
              "            '<a target=\"_blank\" href=https://colab.research.google.com/notebooks/data_table.ipynb>data table notebook</a>'\n",
              "            + ' to learn more about interactive tables.';\n",
              "          element.innerHTML = '';\n",
              "          dataTable['output_type'] = 'display_data';\n",
              "          await google.colab.output.renderOutput(dataTable, element);\n",
              "          const docLink = document.createElement('div');\n",
              "          docLink.innerHTML = docLinkHtml;\n",
              "          element.appendChild(docLink);\n",
              "        }\n",
              "      </script>\n",
              "    </div>\n",
              "  </div>\n",
              "  "
            ]
          },
          "metadata": {},
          "execution_count": 2
        }
      ],
      "source": [
        "# Load the data\n",
        "acs_data = pd.read_csv('https://raw.githubusercontent.com/Jheim12/PPHA30456/main/lab_02/usa_00001.csv')\n",
        "acs_data.head()"
      ]
    },
    {
      "cell_type": "markdown",
      "metadata": {
        "id": "AhCRW_8Lh_uM"
      },
      "source": [
        "## A overview about converting Education var"
      ]
    },
    {
      "cell_type": "markdown",
      "metadata": {
        "id": "wzha5GI2h_uN"
      },
      "source": [
        "### a) Education - We have a categorical measurement of education (educd). For some of our analysis, we need a continuous variable. Use the educd variable to create a continuous measure of education called educdc using the crosswalk"
      ]
    },
    {
      "cell_type": "code",
      "execution_count": 3,
      "metadata": {
        "colab": {
          "base_uri": "https://localhost:8080/"
        },
        "id": "LKo7i0tRh_uN",
        "outputId": "2d7135ae-d14e-4edd-edce-4333b5c80272"
      },
      "outputs": [
        {
          "output_type": "execute_result",
          "data": {
            "text/plain": [
              "array([ 26,  71,  63,  40, 114,  81,  30,  25,  64, 101,  65,  50,   2,\n",
              "       115, 116,  61,  22,  23,  15,  17,  16,  14,  12,  11])"
            ]
          },
          "metadata": {},
          "execution_count": 3
        }
      ],
      "source": [
        "# Check unique values in EDUCD\n",
        "acs_data['EDUCD'].unique()"
      ]
    },
    {
      "cell_type": "code",
      "execution_count": 4,
      "metadata": {
        "colab": {
          "base_uri": "https://localhost:8080/",
          "height": 206
        },
        "id": "pYpTfuCHh_uO",
        "outputId": "2fc1acd4-8004-47f4-b407-ebb44023526f"
      },
      "outputs": [
        {
          "output_type": "execute_result",
          "data": {
            "text/plain": [
              "   educd  educdc\n",
              "0      2     0.0\n",
              "1     10     0.0\n",
              "2     11     2.0\n",
              "3     12     0.0\n",
              "4     13     2.5"
            ],
            "text/html": [
              "\n",
              "  <div id=\"df-50f7d745-ad5c-428e-a72b-605e09895b9b\">\n",
              "    <div class=\"colab-df-container\">\n",
              "      <div>\n",
              "<style scoped>\n",
              "    .dataframe tbody tr th:only-of-type {\n",
              "        vertical-align: middle;\n",
              "    }\n",
              "\n",
              "    .dataframe tbody tr th {\n",
              "        vertical-align: top;\n",
              "    }\n",
              "\n",
              "    .dataframe thead th {\n",
              "        text-align: right;\n",
              "    }\n",
              "</style>\n",
              "<table border=\"1\" class=\"dataframe\">\n",
              "  <thead>\n",
              "    <tr style=\"text-align: right;\">\n",
              "      <th></th>\n",
              "      <th>educd</th>\n",
              "      <th>educdc</th>\n",
              "    </tr>\n",
              "  </thead>\n",
              "  <tbody>\n",
              "    <tr>\n",
              "      <th>0</th>\n",
              "      <td>2</td>\n",
              "      <td>0.0</td>\n",
              "    </tr>\n",
              "    <tr>\n",
              "      <th>1</th>\n",
              "      <td>10</td>\n",
              "      <td>0.0</td>\n",
              "    </tr>\n",
              "    <tr>\n",
              "      <th>2</th>\n",
              "      <td>11</td>\n",
              "      <td>2.0</td>\n",
              "    </tr>\n",
              "    <tr>\n",
              "      <th>3</th>\n",
              "      <td>12</td>\n",
              "      <td>0.0</td>\n",
              "    </tr>\n",
              "    <tr>\n",
              "      <th>4</th>\n",
              "      <td>13</td>\n",
              "      <td>2.5</td>\n",
              "    </tr>\n",
              "  </tbody>\n",
              "</table>\n",
              "</div>\n",
              "      <button class=\"colab-df-convert\" onclick=\"convertToInteractive('df-50f7d745-ad5c-428e-a72b-605e09895b9b')\"\n",
              "              title=\"Convert this dataframe to an interactive table.\"\n",
              "              style=\"display:none;\">\n",
              "        \n",
              "  <svg xmlns=\"http://www.w3.org/2000/svg\" height=\"24px\"viewBox=\"0 0 24 24\"\n",
              "       width=\"24px\">\n",
              "    <path d=\"M0 0h24v24H0V0z\" fill=\"none\"/>\n",
              "    <path d=\"M18.56 5.44l.94 2.06.94-2.06 2.06-.94-2.06-.94-.94-2.06-.94 2.06-2.06.94zm-11 1L8.5 8.5l.94-2.06 2.06-.94-2.06-.94L8.5 2.5l-.94 2.06-2.06.94zm10 10l.94 2.06.94-2.06 2.06-.94-2.06-.94-.94-2.06-.94 2.06-2.06.94z\"/><path d=\"M17.41 7.96l-1.37-1.37c-.4-.4-.92-.59-1.43-.59-.52 0-1.04.2-1.43.59L10.3 9.45l-7.72 7.72c-.78.78-.78 2.05 0 2.83L4 21.41c.39.39.9.59 1.41.59.51 0 1.02-.2 1.41-.59l7.78-7.78 2.81-2.81c.8-.78.8-2.07 0-2.86zM5.41 20L4 18.59l7.72-7.72 1.47 1.35L5.41 20z\"/>\n",
              "  </svg>\n",
              "      </button>\n",
              "      \n",
              "  <style>\n",
              "    .colab-df-container {\n",
              "      display:flex;\n",
              "      flex-wrap:wrap;\n",
              "      gap: 12px;\n",
              "    }\n",
              "\n",
              "    .colab-df-convert {\n",
              "      background-color: #E8F0FE;\n",
              "      border: none;\n",
              "      border-radius: 50%;\n",
              "      cursor: pointer;\n",
              "      display: none;\n",
              "      fill: #1967D2;\n",
              "      height: 32px;\n",
              "      padding: 0 0 0 0;\n",
              "      width: 32px;\n",
              "    }\n",
              "\n",
              "    .colab-df-convert:hover {\n",
              "      background-color: #E2EBFA;\n",
              "      box-shadow: 0px 1px 2px rgba(60, 64, 67, 0.3), 0px 1px 3px 1px rgba(60, 64, 67, 0.15);\n",
              "      fill: #174EA6;\n",
              "    }\n",
              "\n",
              "    [theme=dark] .colab-df-convert {\n",
              "      background-color: #3B4455;\n",
              "      fill: #D2E3FC;\n",
              "    }\n",
              "\n",
              "    [theme=dark] .colab-df-convert:hover {\n",
              "      background-color: #434B5C;\n",
              "      box-shadow: 0px 1px 3px 1px rgba(0, 0, 0, 0.15);\n",
              "      filter: drop-shadow(0px 1px 2px rgba(0, 0, 0, 0.3));\n",
              "      fill: #FFFFFF;\n",
              "    }\n",
              "  </style>\n",
              "\n",
              "      <script>\n",
              "        const buttonEl =\n",
              "          document.querySelector('#df-50f7d745-ad5c-428e-a72b-605e09895b9b button.colab-df-convert');\n",
              "        buttonEl.style.display =\n",
              "          google.colab.kernel.accessAllowed ? 'block' : 'none';\n",
              "\n",
              "        async function convertToInteractive(key) {\n",
              "          const element = document.querySelector('#df-50f7d745-ad5c-428e-a72b-605e09895b9b');\n",
              "          const dataTable =\n",
              "            await google.colab.kernel.invokeFunction('convertToInteractive',\n",
              "                                                     [key], {});\n",
              "          if (!dataTable) return;\n",
              "\n",
              "          const docLinkHtml = 'Like what you see? Visit the ' +\n",
              "            '<a target=\"_blank\" href=https://colab.research.google.com/notebooks/data_table.ipynb>data table notebook</a>'\n",
              "            + ' to learn more about interactive tables.';\n",
              "          element.innerHTML = '';\n",
              "          dataTable['output_type'] = 'display_data';\n",
              "          await google.colab.output.renderOutput(dataTable, element);\n",
              "          const docLink = document.createElement('div');\n",
              "          docLink.innerHTML = docLinkHtml;\n",
              "          element.appendChild(docLink);\n",
              "        }\n",
              "      </script>\n",
              "    </div>\n",
              "  </div>\n",
              "  "
            ]
          },
          "metadata": {},
          "execution_count": 4
        }
      ],
      "source": [
        "crosswalk = pd.read_csv('https://raw.githubusercontent.com/Jheim12/PPHA30456/main/lab_02/PPHA_30545_MP01-Crosswalk.csv')\n",
        "crosswalk.head()"
      ]
    },
    {
      "cell_type": "code",
      "execution_count": 5,
      "metadata": {
        "colab": {
          "base_uri": "https://localhost:8080/",
          "height": 145
        },
        "id": "heTzzSpLh_uP",
        "outputId": "2134b000-bb56-4e03-a3dc-2a2a70c2eae0"
      },
      "outputs": [
        {
          "output_type": "execute_result",
          "data": {
            "text/plain": [
              "educd   2    10   11   12   13   14   15   16   17   20   21   22   23   24   \\\n",
              "educdc  0.0  0.0  2.0  0.0  2.5  1.0  2.0  3.0  4.0  6.5  5.5  5.0  6.0  7.5   \n",
              "\n",
              "educd   25   26   30    40    50    61    62    63    64    65    70    71   \\\n",
              "educdc  7.0  8.0  9.0  10.0  11.0  12.0  12.0  12.0  12.0  13.0  13.0  14.0   \n",
              "\n",
              "educd    80    81    82    83    90    100   101   110   111   112   113  \\\n",
              "educdc  14.0  14.0  14.0  14.0  15.0  16.0  16.0  17.0  18.0  19.0  20.0   \n",
              "\n",
              "educd    114   115   116  \n",
              "educdc  18.0  18.0  22.0  "
            ],
            "text/html": [
              "\n",
              "  <div id=\"df-26b3574c-8836-4c9b-b005-37080b00da58\">\n",
              "    <div class=\"colab-df-container\">\n",
              "      <div>\n",
              "<style scoped>\n",
              "    .dataframe tbody tr th:only-of-type {\n",
              "        vertical-align: middle;\n",
              "    }\n",
              "\n",
              "    .dataframe tbody tr th {\n",
              "        vertical-align: top;\n",
              "    }\n",
              "\n",
              "    .dataframe thead th {\n",
              "        text-align: right;\n",
              "    }\n",
              "</style>\n",
              "<table border=\"1\" class=\"dataframe\">\n",
              "  <thead>\n",
              "    <tr style=\"text-align: right;\">\n",
              "      <th>educd</th>\n",
              "      <th>2</th>\n",
              "      <th>10</th>\n",
              "      <th>11</th>\n",
              "      <th>12</th>\n",
              "      <th>13</th>\n",
              "      <th>14</th>\n",
              "      <th>15</th>\n",
              "      <th>16</th>\n",
              "      <th>17</th>\n",
              "      <th>20</th>\n",
              "      <th>21</th>\n",
              "      <th>22</th>\n",
              "      <th>23</th>\n",
              "      <th>24</th>\n",
              "      <th>25</th>\n",
              "      <th>26</th>\n",
              "      <th>30</th>\n",
              "      <th>40</th>\n",
              "      <th>50</th>\n",
              "      <th>61</th>\n",
              "      <th>62</th>\n",
              "      <th>63</th>\n",
              "      <th>64</th>\n",
              "      <th>65</th>\n",
              "      <th>70</th>\n",
              "      <th>71</th>\n",
              "      <th>80</th>\n",
              "      <th>81</th>\n",
              "      <th>82</th>\n",
              "      <th>83</th>\n",
              "      <th>90</th>\n",
              "      <th>100</th>\n",
              "      <th>101</th>\n",
              "      <th>110</th>\n",
              "      <th>111</th>\n",
              "      <th>112</th>\n",
              "      <th>113</th>\n",
              "      <th>114</th>\n",
              "      <th>115</th>\n",
              "      <th>116</th>\n",
              "    </tr>\n",
              "  </thead>\n",
              "  <tbody>\n",
              "    <tr>\n",
              "      <th>educdc</th>\n",
              "      <td>0.0</td>\n",
              "      <td>0.0</td>\n",
              "      <td>2.0</td>\n",
              "      <td>0.0</td>\n",
              "      <td>2.5</td>\n",
              "      <td>1.0</td>\n",
              "      <td>2.0</td>\n",
              "      <td>3.0</td>\n",
              "      <td>4.0</td>\n",
              "      <td>6.5</td>\n",
              "      <td>5.5</td>\n",
              "      <td>5.0</td>\n",
              "      <td>6.0</td>\n",
              "      <td>7.5</td>\n",
              "      <td>7.0</td>\n",
              "      <td>8.0</td>\n",
              "      <td>9.0</td>\n",
              "      <td>10.0</td>\n",
              "      <td>11.0</td>\n",
              "      <td>12.0</td>\n",
              "      <td>12.0</td>\n",
              "      <td>12.0</td>\n",
              "      <td>12.0</td>\n",
              "      <td>13.0</td>\n",
              "      <td>13.0</td>\n",
              "      <td>14.0</td>\n",
              "      <td>14.0</td>\n",
              "      <td>14.0</td>\n",
              "      <td>14.0</td>\n",
              "      <td>14.0</td>\n",
              "      <td>15.0</td>\n",
              "      <td>16.0</td>\n",
              "      <td>16.0</td>\n",
              "      <td>17.0</td>\n",
              "      <td>18.0</td>\n",
              "      <td>19.0</td>\n",
              "      <td>20.0</td>\n",
              "      <td>18.0</td>\n",
              "      <td>18.0</td>\n",
              "      <td>22.0</td>\n",
              "    </tr>\n",
              "  </tbody>\n",
              "</table>\n",
              "</div>\n",
              "      <button class=\"colab-df-convert\" onclick=\"convertToInteractive('df-26b3574c-8836-4c9b-b005-37080b00da58')\"\n",
              "              title=\"Convert this dataframe to an interactive table.\"\n",
              "              style=\"display:none;\">\n",
              "        \n",
              "  <svg xmlns=\"http://www.w3.org/2000/svg\" height=\"24px\"viewBox=\"0 0 24 24\"\n",
              "       width=\"24px\">\n",
              "    <path d=\"M0 0h24v24H0V0z\" fill=\"none\"/>\n",
              "    <path d=\"M18.56 5.44l.94 2.06.94-2.06 2.06-.94-2.06-.94-.94-2.06-.94 2.06-2.06.94zm-11 1L8.5 8.5l.94-2.06 2.06-.94-2.06-.94L8.5 2.5l-.94 2.06-2.06.94zm10 10l.94 2.06.94-2.06 2.06-.94-2.06-.94-.94-2.06-.94 2.06-2.06.94z\"/><path d=\"M17.41 7.96l-1.37-1.37c-.4-.4-.92-.59-1.43-.59-.52 0-1.04.2-1.43.59L10.3 9.45l-7.72 7.72c-.78.78-.78 2.05 0 2.83L4 21.41c.39.39.9.59 1.41.59.51 0 1.02-.2 1.41-.59l7.78-7.78 2.81-2.81c.8-.78.8-2.07 0-2.86zM5.41 20L4 18.59l7.72-7.72 1.47 1.35L5.41 20z\"/>\n",
              "  </svg>\n",
              "      </button>\n",
              "      \n",
              "  <style>\n",
              "    .colab-df-container {\n",
              "      display:flex;\n",
              "      flex-wrap:wrap;\n",
              "      gap: 12px;\n",
              "    }\n",
              "\n",
              "    .colab-df-convert {\n",
              "      background-color: #E8F0FE;\n",
              "      border: none;\n",
              "      border-radius: 50%;\n",
              "      cursor: pointer;\n",
              "      display: none;\n",
              "      fill: #1967D2;\n",
              "      height: 32px;\n",
              "      padding: 0 0 0 0;\n",
              "      width: 32px;\n",
              "    }\n",
              "\n",
              "    .colab-df-convert:hover {\n",
              "      background-color: #E2EBFA;\n",
              "      box-shadow: 0px 1px 2px rgba(60, 64, 67, 0.3), 0px 1px 3px 1px rgba(60, 64, 67, 0.15);\n",
              "      fill: #174EA6;\n",
              "    }\n",
              "\n",
              "    [theme=dark] .colab-df-convert {\n",
              "      background-color: #3B4455;\n",
              "      fill: #D2E3FC;\n",
              "    }\n",
              "\n",
              "    [theme=dark] .colab-df-convert:hover {\n",
              "      background-color: #434B5C;\n",
              "      box-shadow: 0px 1px 3px 1px rgba(0, 0, 0, 0.15);\n",
              "      filter: drop-shadow(0px 1px 2px rgba(0, 0, 0, 0.3));\n",
              "      fill: #FFFFFF;\n",
              "    }\n",
              "  </style>\n",
              "\n",
              "      <script>\n",
              "        const buttonEl =\n",
              "          document.querySelector('#df-26b3574c-8836-4c9b-b005-37080b00da58 button.colab-df-convert');\n",
              "        buttonEl.style.display =\n",
              "          google.colab.kernel.accessAllowed ? 'block' : 'none';\n",
              "\n",
              "        async function convertToInteractive(key) {\n",
              "          const element = document.querySelector('#df-26b3574c-8836-4c9b-b005-37080b00da58');\n",
              "          const dataTable =\n",
              "            await google.colab.kernel.invokeFunction('convertToInteractive',\n",
              "                                                     [key], {});\n",
              "          if (!dataTable) return;\n",
              "\n",
              "          const docLinkHtml = 'Like what you see? Visit the ' +\n",
              "            '<a target=\"_blank\" href=https://colab.research.google.com/notebooks/data_table.ipynb>data table notebook</a>'\n",
              "            + ' to learn more about interactive tables.';\n",
              "          element.innerHTML = '';\n",
              "          dataTable['output_type'] = 'display_data';\n",
              "          await google.colab.output.renderOutput(dataTable, element);\n",
              "          const docLink = document.createElement('div');\n",
              "          docLink.innerHTML = docLinkHtml;\n",
              "          element.appendChild(docLink);\n",
              "        }\n",
              "      </script>\n",
              "    </div>\n",
              "  </div>\n",
              "  "
            ]
          },
          "metadata": {},
          "execution_count": 5
        }
      ],
      "source": [
        "# Transform data to convert to dictionary\n",
        "crosswalk = crosswalk.set_index('educd').T\n",
        "crosswalk"
      ]
    },
    {
      "cell_type": "code",
      "execution_count": 6,
      "metadata": {
        "colab": {
          "base_uri": "https://localhost:8080/"
        },
        "id": "iETZnvLwh_uP",
        "outputId": "53573525-6f7d-452f-c57d-a8b5ef210a0c"
      },
      "outputs": [
        {
          "output_type": "execute_result",
          "data": {
            "text/plain": [
              "{2: [0.0],\n",
              " 10: [0.0],\n",
              " 11: [2.0],\n",
              " 12: [0.0],\n",
              " 13: [2.5],\n",
              " 14: [1.0],\n",
              " 15: [2.0],\n",
              " 16: [3.0],\n",
              " 17: [4.0],\n",
              " 20: [6.5],\n",
              " 21: [5.5],\n",
              " 22: [5.0],\n",
              " 23: [6.0],\n",
              " 24: [7.5],\n",
              " 25: [7.0],\n",
              " 26: [8.0],\n",
              " 30: [9.0],\n",
              " 40: [10.0],\n",
              " 50: [11.0],\n",
              " 61: [12.0],\n",
              " 62: [12.0],\n",
              " 63: [12.0],\n",
              " 64: [12.0],\n",
              " 65: [13.0],\n",
              " 70: [13.0],\n",
              " 71: [14.0],\n",
              " 80: [14.0],\n",
              " 81: [14.0],\n",
              " 82: [14.0],\n",
              " 83: [14.0],\n",
              " 90: [15.0],\n",
              " 100: [16.0],\n",
              " 101: [16.0],\n",
              " 110: [17.0],\n",
              " 111: [18.0],\n",
              " 112: [19.0],\n",
              " 113: [20.0],\n",
              " 114: [18.0],\n",
              " 115: [18.0],\n",
              " 116: [22.0]}"
            ]
          },
          "metadata": {},
          "execution_count": 6
        }
      ],
      "source": [
        "# convert cw to dictionary (the parameter 'to list' ensures that the column names above our keys)\n",
        "crosswalk.to_dict('list')"
      ]
    },
    {
      "cell_type": "code",
      "execution_count": 10,
      "metadata": {
        "colab": {
          "base_uri": "https://localhost:8080/",
          "height": 270
        },
        "id": "VaTHvAh2h_uR",
        "outputId": "8ebdd131-4313-4e40-bf7c-95be5cc6131f"
      },
      "outputs": [
        {
          "output_type": "execute_result",
          "data": {
            "text/plain": [
              "   YEAR  SAMPLE  SERIAL       CBSERIAL     HHWT        CLUSTER  STRATA  GQ  \\\n",
              "0  2019  201901     658  2019010040132   3096.0  2019000006581  200001   4   \n",
              "1  2019  201901   18460  2019001119914  17647.2  2019000184601   50001   1   \n",
              "2  2019  201901   48646  2019001015243   9288.0  2019000486461   80504   2   \n",
              "3  2019  201901  102981  2019000172057  25696.8  2019001029811  371206   1   \n",
              "4  2019  201901  115520  2019000302438  13158.0  2019001155201  730206   1   \n",
              "\n",
              "   PERNUM    PERWT  NCHILD  NCHLT5  SEX  AGE  MARST  RACE  RACED  HISPAN  \\\n",
              "0       1   3096.0       0       0    1   49      6     1    100       0   \n",
              "1       1  17647.2       0       0    2   51      5     1    100       0   \n",
              "2       3  12848.4       0       0    1   21      6     7    700       1   \n",
              "3       1  25542.0       0       0    2   40      4     7    700       4   \n",
              "4       1  13158.0       1       0    1   50      1     1    100       1   \n",
              "\n",
              "   HISPAND  EDUC  EDUCD  EMPSTAT  EMPSTATD  INCWAGE  VETSTAT  VETSTATD  \\\n",
              "0        0     2     26        1        10     1700        1        11   \n",
              "1        0     2     26        1        10    15000        1        11   \n",
              "2      100     2     26        1        10    14000        1        11   \n",
              "3      416     2     26        1        10        0        1        11   \n",
              "4      100     2     26        1        10    37500        1        11   \n",
              "\n",
              "   EDUCDC  educd_x  educdc_x  educd_y  educdc_y  \n",
              "0     8.0       26       8.0       26       8.0  \n",
              "1     8.0       26       8.0       26       8.0  \n",
              "2     8.0       26       8.0       26       8.0  \n",
              "3     8.0       26       8.0       26       8.0  \n",
              "4     8.0       26       8.0       26       8.0  "
            ],
            "text/html": [
              "\n",
              "  <div id=\"df-57400bc7-7758-43df-8a32-bb2598c69242\">\n",
              "    <div class=\"colab-df-container\">\n",
              "      <div>\n",
              "<style scoped>\n",
              "    .dataframe tbody tr th:only-of-type {\n",
              "        vertical-align: middle;\n",
              "    }\n",
              "\n",
              "    .dataframe tbody tr th {\n",
              "        vertical-align: top;\n",
              "    }\n",
              "\n",
              "    .dataframe thead th {\n",
              "        text-align: right;\n",
              "    }\n",
              "</style>\n",
              "<table border=\"1\" class=\"dataframe\">\n",
              "  <thead>\n",
              "    <tr style=\"text-align: right;\">\n",
              "      <th></th>\n",
              "      <th>YEAR</th>\n",
              "      <th>SAMPLE</th>\n",
              "      <th>SERIAL</th>\n",
              "      <th>CBSERIAL</th>\n",
              "      <th>HHWT</th>\n",
              "      <th>CLUSTER</th>\n",
              "      <th>STRATA</th>\n",
              "      <th>GQ</th>\n",
              "      <th>PERNUM</th>\n",
              "      <th>PERWT</th>\n",
              "      <th>NCHILD</th>\n",
              "      <th>NCHLT5</th>\n",
              "      <th>SEX</th>\n",
              "      <th>AGE</th>\n",
              "      <th>MARST</th>\n",
              "      <th>RACE</th>\n",
              "      <th>RACED</th>\n",
              "      <th>HISPAN</th>\n",
              "      <th>HISPAND</th>\n",
              "      <th>EDUC</th>\n",
              "      <th>EDUCD</th>\n",
              "      <th>EMPSTAT</th>\n",
              "      <th>EMPSTATD</th>\n",
              "      <th>INCWAGE</th>\n",
              "      <th>VETSTAT</th>\n",
              "      <th>VETSTATD</th>\n",
              "      <th>EDUCDC</th>\n",
              "      <th>educd_x</th>\n",
              "      <th>educdc_x</th>\n",
              "      <th>educd_y</th>\n",
              "      <th>educdc_y</th>\n",
              "    </tr>\n",
              "  </thead>\n",
              "  <tbody>\n",
              "    <tr>\n",
              "      <th>0</th>\n",
              "      <td>2019</td>\n",
              "      <td>201901</td>\n",
              "      <td>658</td>\n",
              "      <td>2019010040132</td>\n",
              "      <td>3096.0</td>\n",
              "      <td>2019000006581</td>\n",
              "      <td>200001</td>\n",
              "      <td>4</td>\n",
              "      <td>1</td>\n",
              "      <td>3096.0</td>\n",
              "      <td>0</td>\n",
              "      <td>0</td>\n",
              "      <td>1</td>\n",
              "      <td>49</td>\n",
              "      <td>6</td>\n",
              "      <td>1</td>\n",
              "      <td>100</td>\n",
              "      <td>0</td>\n",
              "      <td>0</td>\n",
              "      <td>2</td>\n",
              "      <td>26</td>\n",
              "      <td>1</td>\n",
              "      <td>10</td>\n",
              "      <td>1700</td>\n",
              "      <td>1</td>\n",
              "      <td>11</td>\n",
              "      <td>8.0</td>\n",
              "      <td>26</td>\n",
              "      <td>8.0</td>\n",
              "      <td>26</td>\n",
              "      <td>8.0</td>\n",
              "    </tr>\n",
              "    <tr>\n",
              "      <th>1</th>\n",
              "      <td>2019</td>\n",
              "      <td>201901</td>\n",
              "      <td>18460</td>\n",
              "      <td>2019001119914</td>\n",
              "      <td>17647.2</td>\n",
              "      <td>2019000184601</td>\n",
              "      <td>50001</td>\n",
              "      <td>1</td>\n",
              "      <td>1</td>\n",
              "      <td>17647.2</td>\n",
              "      <td>0</td>\n",
              "      <td>0</td>\n",
              "      <td>2</td>\n",
              "      <td>51</td>\n",
              "      <td>5</td>\n",
              "      <td>1</td>\n",
              "      <td>100</td>\n",
              "      <td>0</td>\n",
              "      <td>0</td>\n",
              "      <td>2</td>\n",
              "      <td>26</td>\n",
              "      <td>1</td>\n",
              "      <td>10</td>\n",
              "      <td>15000</td>\n",
              "      <td>1</td>\n",
              "      <td>11</td>\n",
              "      <td>8.0</td>\n",
              "      <td>26</td>\n",
              "      <td>8.0</td>\n",
              "      <td>26</td>\n",
              "      <td>8.0</td>\n",
              "    </tr>\n",
              "    <tr>\n",
              "      <th>2</th>\n",
              "      <td>2019</td>\n",
              "      <td>201901</td>\n",
              "      <td>48646</td>\n",
              "      <td>2019001015243</td>\n",
              "      <td>9288.0</td>\n",
              "      <td>2019000486461</td>\n",
              "      <td>80504</td>\n",
              "      <td>2</td>\n",
              "      <td>3</td>\n",
              "      <td>12848.4</td>\n",
              "      <td>0</td>\n",
              "      <td>0</td>\n",
              "      <td>1</td>\n",
              "      <td>21</td>\n",
              "      <td>6</td>\n",
              "      <td>7</td>\n",
              "      <td>700</td>\n",
              "      <td>1</td>\n",
              "      <td>100</td>\n",
              "      <td>2</td>\n",
              "      <td>26</td>\n",
              "      <td>1</td>\n",
              "      <td>10</td>\n",
              "      <td>14000</td>\n",
              "      <td>1</td>\n",
              "      <td>11</td>\n",
              "      <td>8.0</td>\n",
              "      <td>26</td>\n",
              "      <td>8.0</td>\n",
              "      <td>26</td>\n",
              "      <td>8.0</td>\n",
              "    </tr>\n",
              "    <tr>\n",
              "      <th>3</th>\n",
              "      <td>2019</td>\n",
              "      <td>201901</td>\n",
              "      <td>102981</td>\n",
              "      <td>2019000172057</td>\n",
              "      <td>25696.8</td>\n",
              "      <td>2019001029811</td>\n",
              "      <td>371206</td>\n",
              "      <td>1</td>\n",
              "      <td>1</td>\n",
              "      <td>25542.0</td>\n",
              "      <td>0</td>\n",
              "      <td>0</td>\n",
              "      <td>2</td>\n",
              "      <td>40</td>\n",
              "      <td>4</td>\n",
              "      <td>7</td>\n",
              "      <td>700</td>\n",
              "      <td>4</td>\n",
              "      <td>416</td>\n",
              "      <td>2</td>\n",
              "      <td>26</td>\n",
              "      <td>1</td>\n",
              "      <td>10</td>\n",
              "      <td>0</td>\n",
              "      <td>1</td>\n",
              "      <td>11</td>\n",
              "      <td>8.0</td>\n",
              "      <td>26</td>\n",
              "      <td>8.0</td>\n",
              "      <td>26</td>\n",
              "      <td>8.0</td>\n",
              "    </tr>\n",
              "    <tr>\n",
              "      <th>4</th>\n",
              "      <td>2019</td>\n",
              "      <td>201901</td>\n",
              "      <td>115520</td>\n",
              "      <td>2019000302438</td>\n",
              "      <td>13158.0</td>\n",
              "      <td>2019001155201</td>\n",
              "      <td>730206</td>\n",
              "      <td>1</td>\n",
              "      <td>1</td>\n",
              "      <td>13158.0</td>\n",
              "      <td>1</td>\n",
              "      <td>0</td>\n",
              "      <td>1</td>\n",
              "      <td>50</td>\n",
              "      <td>1</td>\n",
              "      <td>1</td>\n",
              "      <td>100</td>\n",
              "      <td>1</td>\n",
              "      <td>100</td>\n",
              "      <td>2</td>\n",
              "      <td>26</td>\n",
              "      <td>1</td>\n",
              "      <td>10</td>\n",
              "      <td>37500</td>\n",
              "      <td>1</td>\n",
              "      <td>11</td>\n",
              "      <td>8.0</td>\n",
              "      <td>26</td>\n",
              "      <td>8.0</td>\n",
              "      <td>26</td>\n",
              "      <td>8.0</td>\n",
              "    </tr>\n",
              "  </tbody>\n",
              "</table>\n",
              "</div>\n",
              "      <button class=\"colab-df-convert\" onclick=\"convertToInteractive('df-57400bc7-7758-43df-8a32-bb2598c69242')\"\n",
              "              title=\"Convert this dataframe to an interactive table.\"\n",
              "              style=\"display:none;\">\n",
              "        \n",
              "  <svg xmlns=\"http://www.w3.org/2000/svg\" height=\"24px\"viewBox=\"0 0 24 24\"\n",
              "       width=\"24px\">\n",
              "    <path d=\"M0 0h24v24H0V0z\" fill=\"none\"/>\n",
              "    <path d=\"M18.56 5.44l.94 2.06.94-2.06 2.06-.94-2.06-.94-.94-2.06-.94 2.06-2.06.94zm-11 1L8.5 8.5l.94-2.06 2.06-.94-2.06-.94L8.5 2.5l-.94 2.06-2.06.94zm10 10l.94 2.06.94-2.06 2.06-.94-2.06-.94-.94-2.06-.94 2.06-2.06.94z\"/><path d=\"M17.41 7.96l-1.37-1.37c-.4-.4-.92-.59-1.43-.59-.52 0-1.04.2-1.43.59L10.3 9.45l-7.72 7.72c-.78.78-.78 2.05 0 2.83L4 21.41c.39.39.9.59 1.41.59.51 0 1.02-.2 1.41-.59l7.78-7.78 2.81-2.81c.8-.78.8-2.07 0-2.86zM5.41 20L4 18.59l7.72-7.72 1.47 1.35L5.41 20z\"/>\n",
              "  </svg>\n",
              "      </button>\n",
              "      \n",
              "  <style>\n",
              "    .colab-df-container {\n",
              "      display:flex;\n",
              "      flex-wrap:wrap;\n",
              "      gap: 12px;\n",
              "    }\n",
              "\n",
              "    .colab-df-convert {\n",
              "      background-color: #E8F0FE;\n",
              "      border: none;\n",
              "      border-radius: 50%;\n",
              "      cursor: pointer;\n",
              "      display: none;\n",
              "      fill: #1967D2;\n",
              "      height: 32px;\n",
              "      padding: 0 0 0 0;\n",
              "      width: 32px;\n",
              "    }\n",
              "\n",
              "    .colab-df-convert:hover {\n",
              "      background-color: #E2EBFA;\n",
              "      box-shadow: 0px 1px 2px rgba(60, 64, 67, 0.3), 0px 1px 3px 1px rgba(60, 64, 67, 0.15);\n",
              "      fill: #174EA6;\n",
              "    }\n",
              "\n",
              "    [theme=dark] .colab-df-convert {\n",
              "      background-color: #3B4455;\n",
              "      fill: #D2E3FC;\n",
              "    }\n",
              "\n",
              "    [theme=dark] .colab-df-convert:hover {\n",
              "      background-color: #434B5C;\n",
              "      box-shadow: 0px 1px 3px 1px rgba(0, 0, 0, 0.15);\n",
              "      filter: drop-shadow(0px 1px 2px rgba(0, 0, 0, 0.3));\n",
              "      fill: #FFFFFF;\n",
              "    }\n",
              "  </style>\n",
              "\n",
              "      <script>\n",
              "        const buttonEl =\n",
              "          document.querySelector('#df-57400bc7-7758-43df-8a32-bb2598c69242 button.colab-df-convert');\n",
              "        buttonEl.style.display =\n",
              "          google.colab.kernel.accessAllowed ? 'block' : 'none';\n",
              "\n",
              "        async function convertToInteractive(key) {\n",
              "          const element = document.querySelector('#df-57400bc7-7758-43df-8a32-bb2598c69242');\n",
              "          const dataTable =\n",
              "            await google.colab.kernel.invokeFunction('convertToInteractive',\n",
              "                                                     [key], {});\n",
              "          if (!dataTable) return;\n",
              "\n",
              "          const docLinkHtml = 'Like what you see? Visit the ' +\n",
              "            '<a target=\"_blank\" href=https://colab.research.google.com/notebooks/data_table.ipynb>data table notebook</a>'\n",
              "            + ' to learn more about interactive tables.';\n",
              "          element.innerHTML = '';\n",
              "          dataTable['output_type'] = 'display_data';\n",
              "          await google.colab.output.renderOutput(dataTable, element);\n",
              "          const docLink = document.createElement('div');\n",
              "          docLink.innerHTML = docLinkHtml;\n",
              "          element.appendChild(docLink);\n",
              "        }\n",
              "      </script>\n",
              "    </div>\n",
              "  </div>\n",
              "  "
            ]
          },
          "metadata": {},
          "execution_count": 10
        }
      ],
      "source": [
        "crosswalk = pd.read_csv('https://raw.githubusercontent.com/Jheim12/PPHA30456/main/lab_02/PPHA_30545_MP01-Crosswalk.csv') \n",
        "acs_data = acs_data.merge(crosswalk, left_on='EDUCD', right_on='educd')\n",
        "acs_data.head()"
      ]
    },
    {
      "cell_type": "code",
      "execution_count": 7,
      "metadata": {
        "id": "SrYpNbo6h_uQ"
      },
      "outputs": [],
      "source": [
        "# Duplicate the EDUCD column to create EDUCDC column\n",
        "acs_data['EDUCDC'] = acs_data['EDUCD']"
      ]
    },
    {
      "cell_type": "code",
      "execution_count": 8,
      "metadata": {
        "colab": {
          "base_uri": "https://localhost:8080/",
          "height": 363
        },
        "id": "pOu98w4oh_uQ",
        "outputId": "41d75875-d4de-4590-84a7-5b42c91e90f0"
      },
      "outputs": [
        {
          "output_type": "execute_result",
          "data": {
            "text/plain": [
              "   EDUCD  EDUCDC\n",
              "0     26     8.0\n",
              "1     71    14.0\n",
              "2     63    12.0\n",
              "3     40    10.0\n",
              "4     40    10.0\n",
              "5    114    18.0\n",
              "6     81    14.0\n",
              "7     81    14.0\n",
              "8     63    12.0\n",
              "9     30     9.0"
            ],
            "text/html": [
              "\n",
              "  <div id=\"df-5ff88ab9-9f3a-4b3a-b6d9-26e3b941438b\">\n",
              "    <div class=\"colab-df-container\">\n",
              "      <div>\n",
              "<style scoped>\n",
              "    .dataframe tbody tr th:only-of-type {\n",
              "        vertical-align: middle;\n",
              "    }\n",
              "\n",
              "    .dataframe tbody tr th {\n",
              "        vertical-align: top;\n",
              "    }\n",
              "\n",
              "    .dataframe thead th {\n",
              "        text-align: right;\n",
              "    }\n",
              "</style>\n",
              "<table border=\"1\" class=\"dataframe\">\n",
              "  <thead>\n",
              "    <tr style=\"text-align: right;\">\n",
              "      <th></th>\n",
              "      <th>EDUCD</th>\n",
              "      <th>EDUCDC</th>\n",
              "    </tr>\n",
              "  </thead>\n",
              "  <tbody>\n",
              "    <tr>\n",
              "      <th>0</th>\n",
              "      <td>26</td>\n",
              "      <td>8.0</td>\n",
              "    </tr>\n",
              "    <tr>\n",
              "      <th>1</th>\n",
              "      <td>71</td>\n",
              "      <td>14.0</td>\n",
              "    </tr>\n",
              "    <tr>\n",
              "      <th>2</th>\n",
              "      <td>63</td>\n",
              "      <td>12.0</td>\n",
              "    </tr>\n",
              "    <tr>\n",
              "      <th>3</th>\n",
              "      <td>40</td>\n",
              "      <td>10.0</td>\n",
              "    </tr>\n",
              "    <tr>\n",
              "      <th>4</th>\n",
              "      <td>40</td>\n",
              "      <td>10.0</td>\n",
              "    </tr>\n",
              "    <tr>\n",
              "      <th>5</th>\n",
              "      <td>114</td>\n",
              "      <td>18.0</td>\n",
              "    </tr>\n",
              "    <tr>\n",
              "      <th>6</th>\n",
              "      <td>81</td>\n",
              "      <td>14.0</td>\n",
              "    </tr>\n",
              "    <tr>\n",
              "      <th>7</th>\n",
              "      <td>81</td>\n",
              "      <td>14.0</td>\n",
              "    </tr>\n",
              "    <tr>\n",
              "      <th>8</th>\n",
              "      <td>63</td>\n",
              "      <td>12.0</td>\n",
              "    </tr>\n",
              "    <tr>\n",
              "      <th>9</th>\n",
              "      <td>30</td>\n",
              "      <td>9.0</td>\n",
              "    </tr>\n",
              "  </tbody>\n",
              "</table>\n",
              "</div>\n",
              "      <button class=\"colab-df-convert\" onclick=\"convertToInteractive('df-5ff88ab9-9f3a-4b3a-b6d9-26e3b941438b')\"\n",
              "              title=\"Convert this dataframe to an interactive table.\"\n",
              "              style=\"display:none;\">\n",
              "        \n",
              "  <svg xmlns=\"http://www.w3.org/2000/svg\" height=\"24px\"viewBox=\"0 0 24 24\"\n",
              "       width=\"24px\">\n",
              "    <path d=\"M0 0h24v24H0V0z\" fill=\"none\"/>\n",
              "    <path d=\"M18.56 5.44l.94 2.06.94-2.06 2.06-.94-2.06-.94-.94-2.06-.94 2.06-2.06.94zm-11 1L8.5 8.5l.94-2.06 2.06-.94-2.06-.94L8.5 2.5l-.94 2.06-2.06.94zm10 10l.94 2.06.94-2.06 2.06-.94-2.06-.94-.94-2.06-.94 2.06-2.06.94z\"/><path d=\"M17.41 7.96l-1.37-1.37c-.4-.4-.92-.59-1.43-.59-.52 0-1.04.2-1.43.59L10.3 9.45l-7.72 7.72c-.78.78-.78 2.05 0 2.83L4 21.41c.39.39.9.59 1.41.59.51 0 1.02-.2 1.41-.59l7.78-7.78 2.81-2.81c.8-.78.8-2.07 0-2.86zM5.41 20L4 18.59l7.72-7.72 1.47 1.35L5.41 20z\"/>\n",
              "  </svg>\n",
              "      </button>\n",
              "      \n",
              "  <style>\n",
              "    .colab-df-container {\n",
              "      display:flex;\n",
              "      flex-wrap:wrap;\n",
              "      gap: 12px;\n",
              "    }\n",
              "\n",
              "    .colab-df-convert {\n",
              "      background-color: #E8F0FE;\n",
              "      border: none;\n",
              "      border-radius: 50%;\n",
              "      cursor: pointer;\n",
              "      display: none;\n",
              "      fill: #1967D2;\n",
              "      height: 32px;\n",
              "      padding: 0 0 0 0;\n",
              "      width: 32px;\n",
              "    }\n",
              "\n",
              "    .colab-df-convert:hover {\n",
              "      background-color: #E2EBFA;\n",
              "      box-shadow: 0px 1px 2px rgba(60, 64, 67, 0.3), 0px 1px 3px 1px rgba(60, 64, 67, 0.15);\n",
              "      fill: #174EA6;\n",
              "    }\n",
              "\n",
              "    [theme=dark] .colab-df-convert {\n",
              "      background-color: #3B4455;\n",
              "      fill: #D2E3FC;\n",
              "    }\n",
              "\n",
              "    [theme=dark] .colab-df-convert:hover {\n",
              "      background-color: #434B5C;\n",
              "      box-shadow: 0px 1px 3px 1px rgba(0, 0, 0, 0.15);\n",
              "      filter: drop-shadow(0px 1px 2px rgba(0, 0, 0, 0.3));\n",
              "      fill: #FFFFFF;\n",
              "    }\n",
              "  </style>\n",
              "\n",
              "      <script>\n",
              "        const buttonEl =\n",
              "          document.querySelector('#df-5ff88ab9-9f3a-4b3a-b6d9-26e3b941438b button.colab-df-convert');\n",
              "        buttonEl.style.display =\n",
              "          google.colab.kernel.accessAllowed ? 'block' : 'none';\n",
              "\n",
              "        async function convertToInteractive(key) {\n",
              "          const element = document.querySelector('#df-5ff88ab9-9f3a-4b3a-b6d9-26e3b941438b');\n",
              "          const dataTable =\n",
              "            await google.colab.kernel.invokeFunction('convertToInteractive',\n",
              "                                                     [key], {});\n",
              "          if (!dataTable) return;\n",
              "\n",
              "          const docLinkHtml = 'Like what you see? Visit the ' +\n",
              "            '<a target=\"_blank\" href=https://colab.research.google.com/notebooks/data_table.ipynb>data table notebook</a>'\n",
              "            + ' to learn more about interactive tables.';\n",
              "          element.innerHTML = '';\n",
              "          dataTable['output_type'] = 'display_data';\n",
              "          await google.colab.output.renderOutput(dataTable, element);\n",
              "          const docLink = document.createElement('div');\n",
              "          docLink.innerHTML = docLinkHtml;\n",
              "          element.appendChild(docLink);\n",
              "        }\n",
              "      </script>\n",
              "    </div>\n",
              "  </div>\n",
              "  "
            ]
          },
          "metadata": {},
          "execution_count": 8
        }
      ],
      "source": [
        "# Map values from the dictionary we created\n",
        "acs_data = acs_data.replace({'EDUCDC': crosswalk})\n",
        "\n",
        "# Verify\n",
        "acs_data[['EDUCD', 'EDUCDC']].head(10)\n",
        "acs_data.head()"
      ]
    },
    {
      "cell_type": "markdown",
      "metadata": {
        "id": "kCSK0o-Gh_uS"
      },
      "source": [
        "## Convert VET, white and black to dummy"
      ]
    },
    {
      "cell_type": "markdown",
      "metadata": {
        "id": "kHVSklHih_uS"
      },
      "source": [
        "### b) Dummy Variables - Create the following dummy variables:\n",
        "\n",
        "A dummy, vet, equal to 1 if the individual is a veteran."
      ]
    },
    {
      "cell_type": "code",
      "execution_count": null,
      "metadata": {
        "id": "sCQGXkAqh_uS"
      },
      "outputs": [],
      "source": [
        "# Check the unqique values\n",
        "acs_data['VETSTAT'].unique()\n",
        "# 2 means a vet, 1 means not"
      ]
    },
    {
      "cell_type": "code",
      "execution_count": null,
      "metadata": {
        "id": "ysMMpDlFh_uT"
      },
      "outputs": [],
      "source": [
        "acs_data['VET'] = np.where(acs_data['VETSTAT'] == 2, 1, 0)"
      ]
    },
    {
      "cell_type": "markdown",
      "metadata": {
        "id": "gYfTws3mh_uV"
      },
      "source": [
        "A dummy, white, equal to 1 if the individual is white\n",
        "\n",
        "A dummy, black, equal to 1 if the individual is black"
      ]
    },
    {
      "cell_type": "code",
      "execution_count": null,
      "metadata": {
        "id": "Va43JTbnh_uX"
      },
      "outputs": [],
      "source": [
        "# Whites are 1, Blacks are 2\n",
        "acs_data['White'] = np.where(acs_data['RACE'] == 1, 1, 0)\n",
        "acs_data['Black'] = np.where(acs_data['RACE'] == 2, 1, 0)"
      ]
    },
    {
      "cell_type": "code",
      "execution_count": null,
      "metadata": {
        "id": "wrpKXmVoh_uY"
      },
      "outputs": [],
      "source": [
        "acs_data['MAR'] = np.where(\n",
        "    (acs_data['MARST'] == 1) | (acs_data['MARST'] == 2),\n",
        "    1,\n",
        "    0\n",
        ")\n",
        "\n",
        "# MARST = 1, 2 implies married. Not being married has been set as the reference. "
      ]
    },
    {
      "cell_type": "code",
      "execution_count": null,
      "metadata": {
        "id": "64LhwgYDh_uY"
      },
      "outputs": [],
      "source": [
        "acs_data.head()"
      ]
    },
    {
      "cell_type": "markdown",
      "metadata": {
        "id": "UWJS1-01h_uY"
      },
      "source": [
        "### d) Create Variables: The natural log of incwage"
      ]
    },
    {
      "cell_type": "code",
      "execution_count": null,
      "metadata": {
        "id": "lyWwKmBsh_uY"
      },
      "outputs": [],
      "source": [
        "# We first drop those with 0 income. This is because ln(0) is undefined\n",
        "acs_data = acs_data[acs_data.INCWAGE != 0]\n",
        "acs_data['INCWAGE_log'] = np.log(acs_data['INCWAGE'])"
      ]
    },
    {
      "cell_type": "code",
      "execution_count": null,
      "metadata": {
        "id": "65V7GoPfh_uZ"
      },
      "outputs": [],
      "source": [
        "acs_data[['INCWAGE','INCWAGE_log']].head(10)"
      ]
    },
    {
      "cell_type": "markdown",
      "metadata": {
        "id": "6ZCy2a2uh_uZ"
      },
      "source": [
        "## Create an INCWAGE squared variable"
      ]
    },
    {
      "cell_type": "code",
      "execution_count": null,
      "metadata": {
        "id": "2bGlzZt6h_uZ"
      },
      "outputs": [],
      "source": [
        "acs_data['INCWAGESQ'] = np.power(acs_data['INCWAGE'], 2)\n",
        "acs_data.head()"
      ]
    },
    {
      "cell_type": "code",
      "execution_count": null,
      "metadata": {
        "id": "kcaOm-TNh_uZ"
      },
      "outputs": [],
      "source": []
    },
    {
      "cell_type": "markdown",
      "metadata": {
        "id": "HvHgt8oBh_ua"
      },
      "source": [
        "# 3. Performing data analysis and answering questions."
      ]
    },
    {
      "cell_type": "markdown",
      "metadata": {
        "id": "4r7DYGNhh_ua"
      },
      "source": [
        "## Summary statistic (mean, sd) for age variable only"
      ]
    },
    {
      "cell_type": "code",
      "execution_count": null,
      "metadata": {
        "id": "GlAAKSGdh_ua"
      },
      "outputs": [],
      "source": [
        "acs_data.columns"
      ]
    },
    {
      "cell_type": "code",
      "execution_count": null,
      "metadata": {
        "id": "rjtVFaK3h_ua"
      },
      "outputs": [],
      "source": [
        "acs_data['AGE'].describe()"
      ]
    },
    {
      "cell_type": "code",
      "execution_count": null,
      "metadata": {
        "id": "xH0B3m3Nh_ua"
      },
      "outputs": [],
      "source": [
        "acs_data['AGE'].mean()"
      ]
    },
    {
      "cell_type": "code",
      "execution_count": null,
      "metadata": {
        "scrolled": true,
        "id": "7SHUe1DCh_ub"
      },
      "outputs": [],
      "source": [
        "acs_data['AGE'].std()"
      ]
    },
    {
      "cell_type": "markdown",
      "metadata": {
        "id": "tX_fm-R0h_ub"
      },
      "source": [
        "## scatterplot for age vs income"
      ]
    },
    {
      "cell_type": "code",
      "execution_count": null,
      "metadata": {
        "id": "GGDSJT2xh_ub"
      },
      "outputs": [],
      "source": [
        "import matplotlib.pyplot as plt"
      ]
    },
    {
      "cell_type": "code",
      "execution_count": null,
      "metadata": {
        "id": "MBMt8Nagh_ub"
      },
      "outputs": [],
      "source": [
        "plt.scatter(acs_data['AGE'], acs_data['INCWAGE'])\n",
        "plt.title('Age vs. Income')\n",
        "plt.xlabel('Age (years)')\n",
        "plt.ylabel('Income (dollars)')"
      ]
    },
    {
      "cell_type": "code",
      "execution_count": null,
      "metadata": {
        "scrolled": true,
        "id": "Arp9R0rSh_uc"
      },
      "outputs": [],
      "source": [
        "plt.scatter(acs_data['AGE'], acs_data['INCWAGE'], alpha=0.2, s=25) \n",
        "#The alpha blending value, between 0 (transparent) and 1 (opaque)\n",
        "#scalar or array_like, shape (n, ), optional\n",
        "#The marker size in points**2. Default is rcParams['lines.markersize'] ** 2.\n",
        "plt.title('Age vs. Income')\n",
        "plt.xlabel('Age (years)')\n",
        "plt.ylabel('Income (dollars)')"
      ]
    },
    {
      "cell_type": "code",
      "execution_count": null,
      "metadata": {
        "id": "gASYPRNyh_uc"
      },
      "outputs": [],
      "source": [
        "# import matplotlib.pyplot as plt\n",
        "\n",
        "plt.scatter(acs_data['AGE'], acs_data['INCWAGE'])\n",
        "plt.title('Age vs. Income')\n",
        "plt.xlabel('Age (years)')\n",
        "plt.ylabel('Income (dollars)')\n",
        "\n",
        "plt.scatter(acs_data['AGE'], acs_data['INCWAGE'], alpha=0.2, s=25)\n",
        "plt.title('Age vs. Income')\n",
        "plt.xlabel('Age (years)')\n",
        "plt.ylabel('Income (dollars)')# scatterplot for age vs income\n"
      ]
    },
    {
      "cell_type": "markdown",
      "metadata": {
        "id": "Ebp3_oK5h_uc"
      },
      "source": [
        "## Regressing income only on age and martial status"
      ]
    },
    {
      "cell_type": "code",
      "execution_count": null,
      "metadata": {
        "scrolled": true,
        "id": "r5XAd1k3h_ud"
      },
      "outputs": [],
      "source": [
        "import statsmodels.formula.api as smf\n",
        "result = smf.ols('INCWAGE ~ AGE + MAR', data = acs_data).fit()\n",
        "print(result.summary())"
      ]
    },
    {
      "cell_type": "code",
      "execution_count": null,
      "metadata": {
        "id": "RX9vDX7hh_ud"
      },
      "outputs": [],
      "source": [
        "# There are several possible approaches to encode categorical values, and statsmodels has built-in support\n",
        "# for many of them. In general these work by splitting a categorical variable into many different binary variables. \n",
        "# The simplest way to encode categoricals is “dummy-encoding” which encodes a k-level categorical variable into k-1 \n",
        "# binary variables. In statsmodels this is done easily using the C() function."
      ]
    },
    {
      "cell_type": "markdown",
      "metadata": {
        "id": "WU13p0Pgh_ud"
      },
      "source": [
        "## Predictions"
      ]
    },
    {
      "cell_type": "code",
      "execution_count": null,
      "metadata": {
        "id": "Uy2k-E4Bh_ud"
      },
      "outputs": [],
      "source": [
        "dat = acs_data.loc[\n",
        "    (acs_data['MAR'] == 1) & (acs_data['AGE'] == 40)\n",
        "]\n",
        "predictions = result.get_prediction(dat)\n",
        "\n",
        "predictions.summary_frame(alpha=0.05)[:1]\n",
        "# Expectation for a 40-year-old married individual "
      ]
    },
    {
      "cell_type": "code",
      "execution_count": null,
      "metadata": {
        "id": "Q3Dv-hSuh_ue"
      },
      "outputs": [],
      "source": [
        "# alpha : significance level for the confidence interval.\n",
        "# The default returns a 95% confidence interval."
      ]
    },
    {
      "cell_type": "code",
      "execution_count": null,
      "metadata": {
        "id": "IMAc6KCyh_ue"
      },
      "outputs": [],
      "source": []
    }
  ],
  "metadata": {
    "kernelspec": {
      "display_name": "base",
      "language": "python",
      "name": "python3"
    },
    "language_info": {
      "codemirror_mode": {
        "name": "ipython",
        "version": 3
      },
      "file_extension": ".py",
      "mimetype": "text/x-python",
      "name": "python",
      "nbconvert_exporter": "python",
      "pygments_lexer": "ipython3",
      "version": "3.9.7 (default, Sep 16 2021, 16:59:28) [MSC v.1916 64 bit (AMD64)]"
    },
    "vscode": {
      "interpreter": {
        "hash": "ad2bdc8ecc057115af97d19610ffacc2b4e99fae6737bb82f5d7fb13d2f2c186"
      }
    },
    "colab": {
      "provenance": [],
      "include_colab_link": true
    }
  },
  "nbformat": 4,
  "nbformat_minor": 0
}