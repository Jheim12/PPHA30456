{
  "cells": [
    {
      "cell_type": "markdown",
      "metadata": {
        "id": "view-in-github",
        "colab_type": "text"
      },
      "source": [
        "<a href=\"https://colab.research.google.com/github/Jheim12/PPHA30456/blob/main/lab_05/ML_lab5_walkthrough.ipynb\" target=\"_parent\"><img src=\"https://colab.research.google.com/assets/colab-badge.svg\" alt=\"Open In Colab\"/></a>"
      ]
    },
    {
      "cell_type": "markdown",
      "metadata": {
        "id": "NnGTivAS-B7C"
      },
      "source": [
        "# Lab 5: Resampling & Model Selection\n",
        "\n",
        "The goal of this lab is to give you the tools to:\n",
        "\n",
        " - Perform bootstrapping\n",
        " - Use Leave One Out Cross-Validation (LOOCV)\n",
        " - Perform feature selection with:\n",
        "    - Best Subset Selection\n",
        "    - Forward Stepwise Selection\n",
        "    - Backward Stepwise Selection\n",
        " - Undestand Shrinkage\n",
        "    - Least Absolute Shrinkage and Selection Operator (LASSO)"
      ]
    },
    {
      "cell_type": "code",
      "execution_count": 1,
      "metadata": {
        "id": "yHjLF9hr-B7G"
      },
      "outputs": [],
      "source": [
        "# Our well-trusted libraries\n",
        "import numpy as np\n",
        "import pandas as pd\n",
        "\n",
        "# Sci-kit learn\n",
        "from sklearn.model_selection import train_test_split\n",
        "from sklearn.linear_model import LogisticRegression,LinearRegression, Lasso\n",
        "from sklearn.metrics import accuracy_score\n",
        "from sklearn.preprocessing import PolynomialFeatures\n",
        "from sklearn.model_selection import cross_val_score, cross_validate\n",
        "\n",
        "# Statsmodels\n",
        "import statsmodels.api as sm\n",
        "\n",
        "# Visualizations\n",
        "import matplotlib.pyplot as plt\n",
        "import seaborn as sns\n",
        "\n",
        "# Iterator building blocks\n",
        "# combinations('ABCD', 2) --> AB AC AD BC BD CD\n",
        "from itertools import combinations\n",
        "\n",
        "# Many were concerned with warnings. The short answer is that FutureWarning (most common)\n",
        "# appears when a functionality is deprecated and will be replaced. Here's how to ignore them\n",
        "# even if you should find a way to resolve them in a production environment.\n",
        "import warnings\n",
        "warnings.filterwarnings(\"ignore\", category=FutureWarning)"
      ]
    },
    {
      "cell_type": "markdown",
      "metadata": {
        "id": "K4SX_Sf5-B7I"
      },
      "source": [
        "Throughout this lab, we will use an extremely simple dataset as this helps with the intuition. In essence, we will try to determine whether a person will default (i.e., fail to make their interest or principal payments on a debt) with their account balance, income, and a student indicator. More precisely:\n",
        "\n",
        " - `default` (str, binary): Whether the individual defaulted\n",
        " - `student` (str, binary): Whether the individual is a student\n",
        " - `balance` (float, continuous): The individual's account balance\n",
        " - `income` (float, continuous): The individual's annual income"
      ]
    },
    {
      "cell_type": "code",
      "execution_count": 2,
      "metadata": {
        "colab": {
          "base_uri": "https://localhost:8080/",
          "height": 310
        },
        "id": "jYXJwhNg-B7J",
        "outputId": "257d3b1d-c0c4-40a2-f9c5-26960805854e"
      },
      "outputs": [
        {
          "output_type": "display_data",
          "data": {
            "text/plain": [
              "  default student      balance        income\n",
              "1      No      No   729.526495  44361.625074\n",
              "2      No     Yes   817.180407  12106.134700\n",
              "3      No      No  1073.549164  31767.138947\n",
              "4      No      No   529.250605  35704.493935\n",
              "5      No      No   785.655883  38463.495879"
            ],
            "text/html": [
              "\n",
              "  <div id=\"df-d63833f3-da5c-4059-87dc-2bd82993b271\">\n",
              "    <div class=\"colab-df-container\">\n",
              "      <div>\n",
              "<style scoped>\n",
              "    .dataframe tbody tr th:only-of-type {\n",
              "        vertical-align: middle;\n",
              "    }\n",
              "\n",
              "    .dataframe tbody tr th {\n",
              "        vertical-align: top;\n",
              "    }\n",
              "\n",
              "    .dataframe thead th {\n",
              "        text-align: right;\n",
              "    }\n",
              "</style>\n",
              "<table border=\"1\" class=\"dataframe\">\n",
              "  <thead>\n",
              "    <tr style=\"text-align: right;\">\n",
              "      <th></th>\n",
              "      <th>default</th>\n",
              "      <th>student</th>\n",
              "      <th>balance</th>\n",
              "      <th>income</th>\n",
              "    </tr>\n",
              "  </thead>\n",
              "  <tbody>\n",
              "    <tr>\n",
              "      <th>1</th>\n",
              "      <td>No</td>\n",
              "      <td>No</td>\n",
              "      <td>729.526495</td>\n",
              "      <td>44361.625074</td>\n",
              "    </tr>\n",
              "    <tr>\n",
              "      <th>2</th>\n",
              "      <td>No</td>\n",
              "      <td>Yes</td>\n",
              "      <td>817.180407</td>\n",
              "      <td>12106.134700</td>\n",
              "    </tr>\n",
              "    <tr>\n",
              "      <th>3</th>\n",
              "      <td>No</td>\n",
              "      <td>No</td>\n",
              "      <td>1073.549164</td>\n",
              "      <td>31767.138947</td>\n",
              "    </tr>\n",
              "    <tr>\n",
              "      <th>4</th>\n",
              "      <td>No</td>\n",
              "      <td>No</td>\n",
              "      <td>529.250605</td>\n",
              "      <td>35704.493935</td>\n",
              "    </tr>\n",
              "    <tr>\n",
              "      <th>5</th>\n",
              "      <td>No</td>\n",
              "      <td>No</td>\n",
              "      <td>785.655883</td>\n",
              "      <td>38463.495879</td>\n",
              "    </tr>\n",
              "  </tbody>\n",
              "</table>\n",
              "</div>\n",
              "      <button class=\"colab-df-convert\" onclick=\"convertToInteractive('df-d63833f3-da5c-4059-87dc-2bd82993b271')\"\n",
              "              title=\"Convert this dataframe to an interactive table.\"\n",
              "              style=\"display:none;\">\n",
              "        \n",
              "  <svg xmlns=\"http://www.w3.org/2000/svg\" height=\"24px\"viewBox=\"0 0 24 24\"\n",
              "       width=\"24px\">\n",
              "    <path d=\"M0 0h24v24H0V0z\" fill=\"none\"/>\n",
              "    <path d=\"M18.56 5.44l.94 2.06.94-2.06 2.06-.94-2.06-.94-.94-2.06-.94 2.06-2.06.94zm-11 1L8.5 8.5l.94-2.06 2.06-.94-2.06-.94L8.5 2.5l-.94 2.06-2.06.94zm10 10l.94 2.06.94-2.06 2.06-.94-2.06-.94-.94-2.06-.94 2.06-2.06.94z\"/><path d=\"M17.41 7.96l-1.37-1.37c-.4-.4-.92-.59-1.43-.59-.52 0-1.04.2-1.43.59L10.3 9.45l-7.72 7.72c-.78.78-.78 2.05 0 2.83L4 21.41c.39.39.9.59 1.41.59.51 0 1.02-.2 1.41-.59l7.78-7.78 2.81-2.81c.8-.78.8-2.07 0-2.86zM5.41 20L4 18.59l7.72-7.72 1.47 1.35L5.41 20z\"/>\n",
              "  </svg>\n",
              "      </button>\n",
              "      \n",
              "  <style>\n",
              "    .colab-df-container {\n",
              "      display:flex;\n",
              "      flex-wrap:wrap;\n",
              "      gap: 12px;\n",
              "    }\n",
              "\n",
              "    .colab-df-convert {\n",
              "      background-color: #E8F0FE;\n",
              "      border: none;\n",
              "      border-radius: 50%;\n",
              "      cursor: pointer;\n",
              "      display: none;\n",
              "      fill: #1967D2;\n",
              "      height: 32px;\n",
              "      padding: 0 0 0 0;\n",
              "      width: 32px;\n",
              "    }\n",
              "\n",
              "    .colab-df-convert:hover {\n",
              "      background-color: #E2EBFA;\n",
              "      box-shadow: 0px 1px 2px rgba(60, 64, 67, 0.3), 0px 1px 3px 1px rgba(60, 64, 67, 0.15);\n",
              "      fill: #174EA6;\n",
              "    }\n",
              "\n",
              "    [theme=dark] .colab-df-convert {\n",
              "      background-color: #3B4455;\n",
              "      fill: #D2E3FC;\n",
              "    }\n",
              "\n",
              "    [theme=dark] .colab-df-convert:hover {\n",
              "      background-color: #434B5C;\n",
              "      box-shadow: 0px 1px 3px 1px rgba(0, 0, 0, 0.15);\n",
              "      filter: drop-shadow(0px 1px 2px rgba(0, 0, 0, 0.3));\n",
              "      fill: #FFFFFF;\n",
              "    }\n",
              "  </style>\n",
              "\n",
              "      <script>\n",
              "        const buttonEl =\n",
              "          document.querySelector('#df-d63833f3-da5c-4059-87dc-2bd82993b271 button.colab-df-convert');\n",
              "        buttonEl.style.display =\n",
              "          google.colab.kernel.accessAllowed ? 'block' : 'none';\n",
              "\n",
              "        async function convertToInteractive(key) {\n",
              "          const element = document.querySelector('#df-d63833f3-da5c-4059-87dc-2bd82993b271');\n",
              "          const dataTable =\n",
              "            await google.colab.kernel.invokeFunction('convertToInteractive',\n",
              "                                                     [key], {});\n",
              "          if (!dataTable) return;\n",
              "\n",
              "          const docLinkHtml = 'Like what you see? Visit the ' +\n",
              "            '<a target=\"_blank\" href=https://colab.research.google.com/notebooks/data_table.ipynb>data table notebook</a>'\n",
              "            + ' to learn more about interactive tables.';\n",
              "          element.innerHTML = '';\n",
              "          dataTable['output_type'] = 'display_data';\n",
              "          await google.colab.output.renderOutput(dataTable, element);\n",
              "          const docLink = document.createElement('div');\n",
              "          docLink.innerHTML = docLinkHtml;\n",
              "          element.appendChild(docLink);\n",
              "        }\n",
              "      </script>\n",
              "    </div>\n",
              "  </div>\n",
              "  "
            ]
          },
          "metadata": {}
        },
        {
          "output_type": "stream",
          "name": "stdout",
          "text": [
            "(10000, 4) \n",
            "\n"
          ]
        },
        {
          "output_type": "execute_result",
          "data": {
            "text/plain": [
              "default\n",
              "No     9667\n",
              "Yes     333\n",
              "dtype: int64"
            ]
          },
          "metadata": {},
          "execution_count": 2
        }
      ],
      "source": [
        "default = pd.read_csv('https://raw.githubusercontent.com/Jheim12/PPHA30456/main/lab_05/default.csv',index_col=0)\n",
        "\n",
        "display(default.head())\n",
        "print(default.shape, '\\n')\n",
        "default.value_counts('default')"
      ]
    },
    {
      "cell_type": "markdown",
      "metadata": {
        "id": "wF86GPaA-B7K"
      },
      "source": [
        "Let's turn the `default` and `student` into binary variables. We're only using best practices after all!"
      ]
    },
    {
      "cell_type": "code",
      "execution_count": 3,
      "metadata": {
        "colab": {
          "base_uri": "https://localhost:8080/",
          "height": 206
        },
        "id": "IRoSdAVv-B7L",
        "outputId": "03bfadd0-a65c-4dbf-9dd4-4cd38a1a3e92"
      },
      "outputs": [
        {
          "output_type": "execute_result",
          "data": {
            "text/plain": [
              "   default  student      balance        income\n",
              "1        0        0   729.526495  44361.625074\n",
              "2        0        1   817.180407  12106.134700\n",
              "3        0        0  1073.549164  31767.138947\n",
              "4        0        0   529.250605  35704.493935\n",
              "5        0        0   785.655883  38463.495879"
            ],
            "text/html": [
              "\n",
              "  <div id=\"df-4c026452-0496-4124-ae9c-5bb61bb0f45c\">\n",
              "    <div class=\"colab-df-container\">\n",
              "      <div>\n",
              "<style scoped>\n",
              "    .dataframe tbody tr th:only-of-type {\n",
              "        vertical-align: middle;\n",
              "    }\n",
              "\n",
              "    .dataframe tbody tr th {\n",
              "        vertical-align: top;\n",
              "    }\n",
              "\n",
              "    .dataframe thead th {\n",
              "        text-align: right;\n",
              "    }\n",
              "</style>\n",
              "<table border=\"1\" class=\"dataframe\">\n",
              "  <thead>\n",
              "    <tr style=\"text-align: right;\">\n",
              "      <th></th>\n",
              "      <th>default</th>\n",
              "      <th>student</th>\n",
              "      <th>balance</th>\n",
              "      <th>income</th>\n",
              "    </tr>\n",
              "  </thead>\n",
              "  <tbody>\n",
              "    <tr>\n",
              "      <th>1</th>\n",
              "      <td>0</td>\n",
              "      <td>0</td>\n",
              "      <td>729.526495</td>\n",
              "      <td>44361.625074</td>\n",
              "    </tr>\n",
              "    <tr>\n",
              "      <th>2</th>\n",
              "      <td>0</td>\n",
              "      <td>1</td>\n",
              "      <td>817.180407</td>\n",
              "      <td>12106.134700</td>\n",
              "    </tr>\n",
              "    <tr>\n",
              "      <th>3</th>\n",
              "      <td>0</td>\n",
              "      <td>0</td>\n",
              "      <td>1073.549164</td>\n",
              "      <td>31767.138947</td>\n",
              "    </tr>\n",
              "    <tr>\n",
              "      <th>4</th>\n",
              "      <td>0</td>\n",
              "      <td>0</td>\n",
              "      <td>529.250605</td>\n",
              "      <td>35704.493935</td>\n",
              "    </tr>\n",
              "    <tr>\n",
              "      <th>5</th>\n",
              "      <td>0</td>\n",
              "      <td>0</td>\n",
              "      <td>785.655883</td>\n",
              "      <td>38463.495879</td>\n",
              "    </tr>\n",
              "  </tbody>\n",
              "</table>\n",
              "</div>\n",
              "      <button class=\"colab-df-convert\" onclick=\"convertToInteractive('df-4c026452-0496-4124-ae9c-5bb61bb0f45c')\"\n",
              "              title=\"Convert this dataframe to an interactive table.\"\n",
              "              style=\"display:none;\">\n",
              "        \n",
              "  <svg xmlns=\"http://www.w3.org/2000/svg\" height=\"24px\"viewBox=\"0 0 24 24\"\n",
              "       width=\"24px\">\n",
              "    <path d=\"M0 0h24v24H0V0z\" fill=\"none\"/>\n",
              "    <path d=\"M18.56 5.44l.94 2.06.94-2.06 2.06-.94-2.06-.94-.94-2.06-.94 2.06-2.06.94zm-11 1L8.5 8.5l.94-2.06 2.06-.94-2.06-.94L8.5 2.5l-.94 2.06-2.06.94zm10 10l.94 2.06.94-2.06 2.06-.94-2.06-.94-.94-2.06-.94 2.06-2.06.94z\"/><path d=\"M17.41 7.96l-1.37-1.37c-.4-.4-.92-.59-1.43-.59-.52 0-1.04.2-1.43.59L10.3 9.45l-7.72 7.72c-.78.78-.78 2.05 0 2.83L4 21.41c.39.39.9.59 1.41.59.51 0 1.02-.2 1.41-.59l7.78-7.78 2.81-2.81c.8-.78.8-2.07 0-2.86zM5.41 20L4 18.59l7.72-7.72 1.47 1.35L5.41 20z\"/>\n",
              "  </svg>\n",
              "      </button>\n",
              "      \n",
              "  <style>\n",
              "    .colab-df-container {\n",
              "      display:flex;\n",
              "      flex-wrap:wrap;\n",
              "      gap: 12px;\n",
              "    }\n",
              "\n",
              "    .colab-df-convert {\n",
              "      background-color: #E8F0FE;\n",
              "      border: none;\n",
              "      border-radius: 50%;\n",
              "      cursor: pointer;\n",
              "      display: none;\n",
              "      fill: #1967D2;\n",
              "      height: 32px;\n",
              "      padding: 0 0 0 0;\n",
              "      width: 32px;\n",
              "    }\n",
              "\n",
              "    .colab-df-convert:hover {\n",
              "      background-color: #E2EBFA;\n",
              "      box-shadow: 0px 1px 2px rgba(60, 64, 67, 0.3), 0px 1px 3px 1px rgba(60, 64, 67, 0.15);\n",
              "      fill: #174EA6;\n",
              "    }\n",
              "\n",
              "    [theme=dark] .colab-df-convert {\n",
              "      background-color: #3B4455;\n",
              "      fill: #D2E3FC;\n",
              "    }\n",
              "\n",
              "    [theme=dark] .colab-df-convert:hover {\n",
              "      background-color: #434B5C;\n",
              "      box-shadow: 0px 1px 3px 1px rgba(0, 0, 0, 0.15);\n",
              "      filter: drop-shadow(0px 1px 2px rgba(0, 0, 0, 0.3));\n",
              "      fill: #FFFFFF;\n",
              "    }\n",
              "  </style>\n",
              "\n",
              "      <script>\n",
              "        const buttonEl =\n",
              "          document.querySelector('#df-4c026452-0496-4124-ae9c-5bb61bb0f45c button.colab-df-convert');\n",
              "        buttonEl.style.display =\n",
              "          google.colab.kernel.accessAllowed ? 'block' : 'none';\n",
              "\n",
              "        async function convertToInteractive(key) {\n",
              "          const element = document.querySelector('#df-4c026452-0496-4124-ae9c-5bb61bb0f45c');\n",
              "          const dataTable =\n",
              "            await google.colab.kernel.invokeFunction('convertToInteractive',\n",
              "                                                     [key], {});\n",
              "          if (!dataTable) return;\n",
              "\n",
              "          const docLinkHtml = 'Like what you see? Visit the ' +\n",
              "            '<a target=\"_blank\" href=https://colab.research.google.com/notebooks/data_table.ipynb>data table notebook</a>'\n",
              "            + ' to learn more about interactive tables.';\n",
              "          element.innerHTML = '';\n",
              "          dataTable['output_type'] = 'display_data';\n",
              "          await google.colab.output.renderOutput(dataTable, element);\n",
              "          const docLink = document.createElement('div');\n",
              "          docLink.innerHTML = docLinkHtml;\n",
              "          element.appendChild(docLink);\n",
              "        }\n",
              "      </script>\n",
              "    </div>\n",
              "  </div>\n",
              "  "
            ]
          },
          "metadata": {},
          "execution_count": 3
        }
      ],
      "source": [
        "encoding_dict = {'Yes': 1,'No': 0}\n",
        "for col in ['default', 'student']:\n",
        "    default[col] = default[col].map(encoding_dict)\n",
        "\n",
        "default.head()"
      ]
    },
    {
      "cell_type": "markdown",
      "metadata": {
        "id": "54VQjy3Y-B7L"
      },
      "source": [
        "Before we go into resampling methods, let's estimate the model with the original sample (i.e, `default`) to get a sense of the estimates of the coefficients as well as the standard errors associated with them."
      ]
    },
    {
      "cell_type": "code",
      "execution_count": 4,
      "metadata": {
        "colab": {
          "base_uri": "https://localhost:8080/",
          "height": 709
        },
        "id": "iwuYY1af-B7L",
        "outputId": "738bde87-a6e5-4083-914b-c026ea0d9380"
      },
      "outputs": [
        {
          "output_type": "display_data",
          "data": {
            "text/plain": [
              "   const      balance        income\n",
              "1    1.0   729.526495  44361.625074\n",
              "2    1.0   817.180407  12106.134700\n",
              "3    1.0  1073.549164  31767.138947\n",
              "4    1.0   529.250605  35704.493935\n",
              "5    1.0   785.655883  38463.495879"
            ],
            "text/html": [
              "\n",
              "  <div id=\"df-95a0b461-a595-4224-9900-d19c563dc82b\">\n",
              "    <div class=\"colab-df-container\">\n",
              "      <div>\n",
              "<style scoped>\n",
              "    .dataframe tbody tr th:only-of-type {\n",
              "        vertical-align: middle;\n",
              "    }\n",
              "\n",
              "    .dataframe tbody tr th {\n",
              "        vertical-align: top;\n",
              "    }\n",
              "\n",
              "    .dataframe thead th {\n",
              "        text-align: right;\n",
              "    }\n",
              "</style>\n",
              "<table border=\"1\" class=\"dataframe\">\n",
              "  <thead>\n",
              "    <tr style=\"text-align: right;\">\n",
              "      <th></th>\n",
              "      <th>const</th>\n",
              "      <th>balance</th>\n",
              "      <th>income</th>\n",
              "    </tr>\n",
              "  </thead>\n",
              "  <tbody>\n",
              "    <tr>\n",
              "      <th>1</th>\n",
              "      <td>1.0</td>\n",
              "      <td>729.526495</td>\n",
              "      <td>44361.625074</td>\n",
              "    </tr>\n",
              "    <tr>\n",
              "      <th>2</th>\n",
              "      <td>1.0</td>\n",
              "      <td>817.180407</td>\n",
              "      <td>12106.134700</td>\n",
              "    </tr>\n",
              "    <tr>\n",
              "      <th>3</th>\n",
              "      <td>1.0</td>\n",
              "      <td>1073.549164</td>\n",
              "      <td>31767.138947</td>\n",
              "    </tr>\n",
              "    <tr>\n",
              "      <th>4</th>\n",
              "      <td>1.0</td>\n",
              "      <td>529.250605</td>\n",
              "      <td>35704.493935</td>\n",
              "    </tr>\n",
              "    <tr>\n",
              "      <th>5</th>\n",
              "      <td>1.0</td>\n",
              "      <td>785.655883</td>\n",
              "      <td>38463.495879</td>\n",
              "    </tr>\n",
              "  </tbody>\n",
              "</table>\n",
              "</div>\n",
              "      <button class=\"colab-df-convert\" onclick=\"convertToInteractive('df-95a0b461-a595-4224-9900-d19c563dc82b')\"\n",
              "              title=\"Convert this dataframe to an interactive table.\"\n",
              "              style=\"display:none;\">\n",
              "        \n",
              "  <svg xmlns=\"http://www.w3.org/2000/svg\" height=\"24px\"viewBox=\"0 0 24 24\"\n",
              "       width=\"24px\">\n",
              "    <path d=\"M0 0h24v24H0V0z\" fill=\"none\"/>\n",
              "    <path d=\"M18.56 5.44l.94 2.06.94-2.06 2.06-.94-2.06-.94-.94-2.06-.94 2.06-2.06.94zm-11 1L8.5 8.5l.94-2.06 2.06-.94-2.06-.94L8.5 2.5l-.94 2.06-2.06.94zm10 10l.94 2.06.94-2.06 2.06-.94-2.06-.94-.94-2.06-.94 2.06-2.06.94z\"/><path d=\"M17.41 7.96l-1.37-1.37c-.4-.4-.92-.59-1.43-.59-.52 0-1.04.2-1.43.59L10.3 9.45l-7.72 7.72c-.78.78-.78 2.05 0 2.83L4 21.41c.39.39.9.59 1.41.59.51 0 1.02-.2 1.41-.59l7.78-7.78 2.81-2.81c.8-.78.8-2.07 0-2.86zM5.41 20L4 18.59l7.72-7.72 1.47 1.35L5.41 20z\"/>\n",
              "  </svg>\n",
              "      </button>\n",
              "      \n",
              "  <style>\n",
              "    .colab-df-container {\n",
              "      display:flex;\n",
              "      flex-wrap:wrap;\n",
              "      gap: 12px;\n",
              "    }\n",
              "\n",
              "    .colab-df-convert {\n",
              "      background-color: #E8F0FE;\n",
              "      border: none;\n",
              "      border-radius: 50%;\n",
              "      cursor: pointer;\n",
              "      display: none;\n",
              "      fill: #1967D2;\n",
              "      height: 32px;\n",
              "      padding: 0 0 0 0;\n",
              "      width: 32px;\n",
              "    }\n",
              "\n",
              "    .colab-df-convert:hover {\n",
              "      background-color: #E2EBFA;\n",
              "      box-shadow: 0px 1px 2px rgba(60, 64, 67, 0.3), 0px 1px 3px 1px rgba(60, 64, 67, 0.15);\n",
              "      fill: #174EA6;\n",
              "    }\n",
              "\n",
              "    [theme=dark] .colab-df-convert {\n",
              "      background-color: #3B4455;\n",
              "      fill: #D2E3FC;\n",
              "    }\n",
              "\n",
              "    [theme=dark] .colab-df-convert:hover {\n",
              "      background-color: #434B5C;\n",
              "      box-shadow: 0px 1px 3px 1px rgba(0, 0, 0, 0.15);\n",
              "      filter: drop-shadow(0px 1px 2px rgba(0, 0, 0, 0.3));\n",
              "      fill: #FFFFFF;\n",
              "    }\n",
              "  </style>\n",
              "\n",
              "      <script>\n",
              "        const buttonEl =\n",
              "          document.querySelector('#df-95a0b461-a595-4224-9900-d19c563dc82b button.colab-df-convert');\n",
              "        buttonEl.style.display =\n",
              "          google.colab.kernel.accessAllowed ? 'block' : 'none';\n",
              "\n",
              "        async function convertToInteractive(key) {\n",
              "          const element = document.querySelector('#df-95a0b461-a595-4224-9900-d19c563dc82b');\n",
              "          const dataTable =\n",
              "            await google.colab.kernel.invokeFunction('convertToInteractive',\n",
              "                                                     [key], {});\n",
              "          if (!dataTable) return;\n",
              "\n",
              "          const docLinkHtml = 'Like what you see? Visit the ' +\n",
              "            '<a target=\"_blank\" href=https://colab.research.google.com/notebooks/data_table.ipynb>data table notebook</a>'\n",
              "            + ' to learn more about interactive tables.';\n",
              "          element.innerHTML = '';\n",
              "          dataTable['output_type'] = 'display_data';\n",
              "          await google.colab.output.renderOutput(dataTable, element);\n",
              "          const docLink = document.createElement('div');\n",
              "          docLink.innerHTML = docLinkHtml;\n",
              "          element.appendChild(docLink);\n",
              "        }\n",
              "      </script>\n",
              "    </div>\n",
              "  </div>\n",
              "  "
            ]
          },
          "metadata": {}
        },
        {
          "output_type": "display_data",
          "data": {
            "text/plain": [
              "1    0\n",
              "2    0\n",
              "3    0\n",
              "4    0\n",
              "5    0\n",
              "Name: default, dtype: int64"
            ]
          },
          "metadata": {}
        },
        {
          "output_type": "stream",
          "name": "stdout",
          "text": [
            "Optimization terminated successfully.\n",
            "         Current function value: 0.078948\n",
            "         Iterations 10\n",
            "                           Logit Regression Results                           \n",
            "==============================================================================\n",
            "Dep. Variable:                default   No. Observations:                10000\n",
            "Model:                          Logit   Df Residuals:                     9997\n",
            "Method:                           MLE   Df Model:                            2\n",
            "Date:                Thu, 09 Feb 2023   Pseudo R-squ.:                  0.4594\n",
            "Time:                        20:11:53   Log-Likelihood:                -789.48\n",
            "converged:                       True   LL-Null:                       -1460.3\n",
            "Covariance Type:            nonrobust   LLR p-value:                4.541e-292\n",
            "==============================================================================\n",
            "                 coef    std err          z      P>|z|      [0.025      0.975]\n",
            "------------------------------------------------------------------------------\n",
            "const        -11.5405      0.435    -26.544      0.000     -12.393     -10.688\n",
            "balance        0.0056      0.000     24.835      0.000       0.005       0.006\n",
            "income      2.081e-05   4.99e-06      4.174      0.000     1.1e-05    3.06e-05\n",
            "==============================================================================\n",
            "\n",
            "Possibly complete quasi-separation: A fraction 0.14 of observations can be\n",
            "perfectly predicted. This might indicate that there is complete\n",
            "quasi-separation. In this case some parameters will not be identified.\n"
          ]
        }
      ],
      "source": [
        "X = default[['balance', 'income']]\n",
        "X = sm.add_constant(X)\n",
        "\n",
        "y = default['default']\n",
        "\n",
        "display(X.head(), y.head())\n",
        "\n",
        "results = sm.Logit(y, X).fit()\n",
        "print(results.summary())"
      ]
    },
    {
      "cell_type": "markdown",
      "metadata": {
        "id": "ivHvZA6U-B7M"
      },
      "source": [
        "Here, we are interested in the estimate and the standard error of each coefficient. We will now see how resampling methods perform while keeping this as our initial finding."
      ]
    },
    {
      "cell_type": "markdown",
      "metadata": {
        "id": "I5gUdCmH-B7M"
      },
      "source": [
        "## Bootstrapping\n",
        "\n",
        "Bootstrapping is a method for estimating sampling distributions of an estimator by resampling with replacement form the original sample. It is a flexible way to quantify uncertainty associated with an estimator or a model.\n",
        "\n",
        "We use bootstrapping to estimate hard to calculate standard errors (or confidence intervals). It is also used when the population is too small to generate a large sample.\n",
        "\n",
        "Regarding the latter, bootstrapping is especially useful because it allows us to mimic the process of selecting many observations from the population.\n",
        "\n",
        "Throughout, we will use the following terminology when referring to the samples:\n",
        "\n",
        "- **Original Sample:** The one sample of size `n` we have from the population\n",
        "- **Subsample:** We draw `B` subsamples (of size `n`) with replacement from the original sample\n",
        "\n",
        "The bootstrap algorithm goes as follows:\n",
        "\n",
        "1. Obtain the original sample from the population\n",
        "2. Draw a subsample from the original sample\n",
        "3. Compute the estimate ($ \\hat{\\alpha}_{b}^{*} $) from the subsample\n",
        "4. Repeat steps 2 and 3 `B` times\n",
        "5. Compute $ SE_{B}(\\hat{\\alpha}) = \\sqrt{\\frac{1}{B-1} \\sum_{b=1}^{B} (\\hat{\\alpha}_{b}^{*} - \\bar{\\alpha}_{b}^{*})^{2}} $ where $ \\bar{\\alpha}_{b}^{*} = \\frac{\\sum_{b=1}^{B} \\hat{\\alpha}_{b}^{*}}{B}$\n",
        "\n",
        "![Bootstrap Algorithm](https://github.com/Jheim12/PPHA30456/blob/main/lab_05/bootstrap_algorithm.png?raw=1)\n",
        "\n",
        "The intuition behind the bootstrap is that we approximate the real distribution in the population by the original sample. This of course relies on the distribution in the original sample to approximate the population (which increases with n).\n",
        "\n",
        "It is hard to overstate the importance of the bootstrap. As Efron and Hastie write, “Bootstrap confidence intervals are neither exact nor optimal, but aim instead for a wide applicability, combined with near-exact accuracy”.\n",
        "\n",
        "There is of course the debate about how many bootstrap replications, B, we should use. Ideally, an infinite amount but that is not feasible because of computational restraints. Therefore, we will settle for “as many as possible”.\n"
      ]
    },
    {
      "cell_type": "markdown",
      "metadata": {
        "id": "PGikK2tp-B7N"
      },
      "source": [
        "Anyways, let's get into the code to replicate the bootstrap algorithm we just looked at. Step 1 is already done as `default` is our original sample of length `n = 10000`. Hence, we move on to step 2 which is to draw a subsample with `n` observations from the original sample.\n",
        "\n",
        "To do this, we will get randomly get the indices of `n` observations with replacement from the original sample. This means that an index can appear 0, 1, or multiple times in our subsample.\n",
        "\n",
        "Note that we could also directly draw a subsample (i.e., make a dataframe) but we decided to do it with indices here and build the dataframe only when we need it in the `boot_fn` function."
      ]
    },
    {
      "cell_type": "code",
      "execution_count": 5,
      "metadata": {
        "colab": {
          "base_uri": "https://localhost:8080/"
        },
        "id": "olqRQbWz-B7N",
        "outputId": "18c52b23-d3ef-4902-96cf-5cd68a07868f"
      },
      "outputs": [
        {
          "output_type": "stream",
          "name": "stdout",
          "text": [
            "Help on function get_indices in module __main__:\n",
            "\n",
            "get_indices(data, n)\n",
            "    Generates a random subsample (i.e., its indices)\n",
            "    with replacement consisting of n observations each.\n",
            "    \n",
            "    Inputs:\n",
            "        - data (pd.Dataframe): data to sample from\n",
            "        - n (int): numeber of observations in the sample\n",
            "    \n",
            "    Output:\n",
            "        - indices (np.ndarray): array of indices forming\n",
            "            the samples\n",
            "\n"
          ]
        },
        {
          "output_type": "execute_result",
          "data": {
            "text/plain": [
              "array([6129, 8269, 8599, 1639, 9168])"
            ]
          },
          "metadata": {},
          "execution_count": 5
        }
      ],
      "source": [
        "def get_indices(data, n):\n",
        "    '''\n",
        "    Generates a random subsample (i.e., its indices)\n",
        "    with replacement consisting of n observations each.\n",
        "\n",
        "    Inputs:\n",
        "        - data (pd.Dataframe): data to sample from\n",
        "        - n (int): numeber of observations in the sample\n",
        "    \n",
        "    Output:\n",
        "        - indices (np.ndarray): array of indices forming\n",
        "            the samples\n",
        "    '''\n",
        "    assert type(data) == pd.DataFrame\n",
        "    assert type(n) == int, 'n must be an integer'\n",
        "\n",
        "    indices = np.random.choice(\n",
        "        data.index,         # Indices as the input\n",
        "        int(n),             # Number of indices per sample\n",
        "        replace=True        # Draw samples with replacement\n",
        "    )\n",
        "    return indices\n",
        "\n",
        "help(get_indices)\n",
        "get_indices(default, 5)"
      ]
    },
    {
      "cell_type": "markdown",
      "metadata": {
        "id": "btD1I4Q5-B7O"
      },
      "source": [
        "Remember, there is replacement, meaning that an observation can occur 0, 1, or multiple times in the subsample. Here's proof that it works:"
      ]
    },
    {
      "cell_type": "code",
      "execution_count": 6,
      "metadata": {
        "colab": {
          "base_uri": "https://localhost:8080/"
        },
        "id": "Z4yzdPut-B7O",
        "outputId": "27952510-2274-48e5-e120-efdff3d34014"
      },
      "outputs": [
        {
          "output_type": "execute_result",
          "data": {
            "text/plain": [
              "array([[ 9986,     1],\n",
              "       [ 9988,     1],\n",
              "       [ 9991,     1],\n",
              "       [ 9992,     3],\n",
              "       [ 9993,     2],\n",
              "       [ 9995,     3],\n",
              "       [ 9996,     2],\n",
              "       [ 9997,     3],\n",
              "       [ 9998,     2],\n",
              "       [10000,     3]])"
            ]
          },
          "metadata": {},
          "execution_count": 6
        }
      ],
      "source": [
        "np.asarray(np.unique(get_indices(default, 10000), return_counts=True)).T[-10:]"
      ]
    },
    {
      "cell_type": "markdown",
      "metadata": {
        "id": "IiKOx-YY-B7O"
      },
      "source": [
        "Now, we are already onto step 3, which is to estimate the coefficients with the subsample. Essentially, we do the exact same thing as previously when we used `logit` to get a sense of the ballpark in which the estimates and their standard error lie."
      ]
    },
    {
      "cell_type": "code",
      "execution_count": 7,
      "metadata": {
        "colab": {
          "base_uri": "https://localhost:8080/"
        },
        "id": "Uq8Npqe4-B7P",
        "outputId": "d2ab8aac-6bd9-49a7-fc9e-5257e049610e"
      },
      "outputs": [
        {
          "output_type": "stream",
          "name": "stdout",
          "text": [
            "Coefficients of a single subsample:\n",
            "\tIntercept:\t-11.67\n",
            "\tBalance:\t0.01\n",
            "\tIncome:\t\t0.0\n"
          ]
        }
      ],
      "source": [
        "# similar to boot.fn in the exercise\n",
        "def boot_fn(data, index, constant=True, features=['balance','income'], target='default'):\n",
        "    '''\n",
        "    Runs a logistic regression (with a constant) on only the specified\n",
        "    indices within the data (i.e., on a single subsample).\n",
        "\n",
        "    Inputs:\n",
        "        - data (pd.Dataframe): data to sample from\n",
        "        - indices (np.ndarray): array of indices forming the samples\n",
        "        - features (lst of str): the name of the features\n",
        "        - target (str): the name of the target\n",
        "\n",
        "    Output:\n",
        "        - coefficients (lst of float): the coefficients\n",
        "    '''\n",
        "    X = data[features].loc[index]\n",
        "    if constant:\n",
        "        X = sm.add_constant(X)\n",
        "    y = data[target].loc[index]\n",
        "    \n",
        "    lr = sm.Logit(y,X).fit(disp=0)\n",
        "    coefficients = [lr.params[0], lr.params[1], lr.params[2]]\n",
        "\n",
        "    return coefficients\n",
        "\n",
        "intercept, coef_balance, coef_income = boot_fn(default, get_indices(default, 10000))\n",
        "print(f'Coefficients of a single subsample:\\n\\tIntercept:\\t{round(intercept, 2)}\\n\\tBalance:\\t{round(coef_balance, 2)}\\n\\tIncome:\\t\\t{round(coef_income, 2)}')"
      ]
    },
    {
      "cell_type": "markdown",
      "metadata": {
        "id": "QgNJj4Om-B7P"
      },
      "source": [
        "Thus, `boot_fn` returns the coefficients when running a logistic regression on the indices we give it. As seen, we will use the `get_incidces` function to generate the subsamples (of size `n = len(default)` from `default` with replacement) we will use in the `boot_fn`. It is all coming together!\n",
        "\n",
        "Essentially, we know have the building blocks to retrieve the coefficients of a single subsample. Hence, we can now turn our attention to steps 4 and 5.\n",
        "\n",
        "In step 4, we want to create subsamples and estimate their coefficients before getting the (mean and) standard deviation of those coefficients in step 5. We will do both in the `boot` function."
      ]
    },
    {
      "cell_type": "code",
      "execution_count": 8,
      "metadata": {
        "id": "EPoFJlGz-B7P"
      },
      "outputs": [],
      "source": [
        "def boot(data, func, B):\n",
        "    '''\n",
        "    Executing a bootstrap over B subsamples\n",
        "    to estimate the (mean of) coefficients\n",
        "    and their associated standard errors.\n",
        "\n",
        "    Inputs:\n",
        "        - data (pd.Dataframe): data to sample from\n",
        "        - func (fn): function executing the regression\n",
        "        - B (int): number of subsamples\n",
        "    \n",
        "    Ouput:\n",
        "        - restults (dict of dicts): bootstrapped coefficients\n",
        "            and the associated standard errors\n",
        "    '''\n",
        "    # Step 4\n",
        "    coef_intercept = []\n",
        "    coef_balance = []\n",
        "    coef_income = []\n",
        "\n",
        "    coefs = ['intercept', 'balance', 'income']\n",
        "    output = {coef: [] for coef in coefs}\n",
        "    for i in range(B):\n",
        "        reg_out = func(data, get_indices(data, len(data)))\n",
        "        for i, coef in enumerate(coefs):\n",
        "            output[coef].append(reg_out[i])\n",
        "\n",
        "    # Step 5\n",
        "    results = {}\n",
        "    for coef in coefs:\n",
        "        results[coef] = {\n",
        "            'estimate': np.mean(output[coef]),\n",
        "            'std_err': np.std(output[coef])\n",
        "        }\n",
        "    \n",
        "    return results"
      ]
    },
    {
      "cell_type": "markdown",
      "metadata": {
        "id": "em4sN-VA-B7P"
      },
      "source": [
        "We can finally run our own bootstrap!"
      ]
    },
    {
      "cell_type": "code",
      "execution_count": 9,
      "metadata": {
        "colab": {
          "base_uri": "https://localhost:8080/"
        },
        "id": "eTywSxUM-B7Q",
        "outputId": "334ac98b-7beb-463b-d610-7bc58548ac86"
      },
      "outputs": [
        {
          "output_type": "stream",
          "name": "stdout",
          "text": [
            "Intercept:\n",
            "\tEstimate: -11.542707977876884\n",
            "\tStandard Error: 0.4321166024456766\n",
            "Balance:\n",
            "\tEstimate: 0.005650007220665873\n",
            "\tStandard Error: 0.00022377009335760296\n",
            "Income:\n",
            "\tEstimate: 2.0520300622642224e-05\n",
            "\tStandard Error: 4.956708617773517e-06\n"
          ]
        }
      ],
      "source": [
        "results = boot(default, boot_fn, 1000)\n",
        "for i, x in results.items():\n",
        "    print(f\"{i.capitalize()}:\\n\\tEstimate: {x['estimate']}\\n\\tStandard Error: {x['std_err']}\")\n"
      ]
    },
    {
      "cell_type": "markdown",
      "metadata": {
        "id": "NNuw2qlu-B7Q"
      },
      "source": [
        "We get values that are very similar to what we expected (i.e., from the logistic regression on the original sample). Later in the class, we'll see that by using bootstrapping, we can reduce the risk of overfitting and improve the stability of our machine learning algorithms."
      ]
    },
    {
      "cell_type": "markdown",
      "metadata": {
        "id": "DNM3TeMe-B7Q"
      },
      "source": [
        "# Leave One Out Cross-Validation\n",
        "\n",
        "We already went over cross-validation in previous labs. However, we have yet to cover its most extreme version; Leave One Out Cross Validation (LOOCV).\n",
        "\n",
        "As its name suggests, LOOCV is simply cross validation where the test set contains a single observation. There are a few pros and cons as to why you would choose to use cross-validation:\n",
        "\n",
        "- **Pros:**\n",
        "    - Low Upward Bias: because you only lose one observation when fitting the model on the training data\n",
        "    - Not Noisy: The validation estimate of the test error is always the same\n",
        "- **Cons:**\n",
        "    - Computationally Costly: Requires estimating the model `n` different times"
      ]
    },
    {
      "cell_type": "code",
      "execution_count": 10,
      "metadata": {
        "colab": {
          "base_uri": "https://localhost:8080/"
        },
        "id": "1Ad_WGzj-B7R",
        "outputId": "56c49bdc-ea3a-4ab5-e7f8-2e0e45f805f5"
      },
      "outputs": [
        {
          "output_type": "stream",
          "name": "stdout",
          "text": [
            "Iternation Milestones:...\n",
            "1000\n",
            "2000\n",
            "3000\n",
            "4000\n",
            "5000\n",
            "6000\n",
            "7000\n",
            "8000\n",
            "9000\n",
            "10000\n",
            "\n",
            "[0.0005927380823778676, 0.00044313658761178823, 0.004082543662994613, 3.650933906998175e-05, 0.0008426104370810332, 0.001051824157357238, 0.0007861782470870665, 0.0005042958841561052, 0.006093171030518951, 0.006208461720247738]\n",
            "\n",
            "MSE using LOOCV: 0.02824\n"
          ]
        }
      ],
      "source": [
        "squared_errors = []\n",
        "\n",
        "# Iterate over the entire dataset one observation at a time\n",
        "print('Iternation Milestones:...')\n",
        "for i in default.index:\n",
        "    # All except observation i is our training set\n",
        "    train = default.iloc[default.index != i,:]\n",
        "    # Only observation i is our test set\n",
        "    test = default.iloc[default.index == i,:]\n",
        "\n",
        "    # Fit the model and gather the squared error\n",
        "    ols = LinearRegression().fit(train[['balance', 'income']], train['default'])\n",
        "    test_predicted = ols.predict(test[['balance', 'income']])\n",
        "    test_actual = test[['default']]\n",
        "    squared_error = np.power(test_predicted - test_actual, 2)\n",
        "\n",
        "    # Store the squared error\n",
        "    squared_errors.append(squared_error.values[0][0])\n",
        "\n",
        "    if i % 1000 == 0:\n",
        "        print(i)\n",
        "\n",
        "print(f'\\n{squared_errors[:10]}\\n')\n",
        "\n",
        "# From the squared errors, get the Mean Squared Error (MSE)\n",
        "print(f'MSE using LOOCV: {round(np.mean(squared_errors), 5)}')"
      ]
    },
    {
      "cell_type": "markdown",
      "metadata": {
        "id": "gjGzscBZ-B7R"
      },
      "source": [
        "The interpretation stays the same as previously. However, notice how certain errors are way larger than others? Those are outliers, but they average out over the size of dataset so we don't need to give them much attention.\n",
        "\n",
        "Let's make a quick step back to k-fold cross validation. An alternative way of doing it is with the `cross_val_score` that is also in the sci-kit learn library. Here is how to use it."
      ]
    },
    {
      "cell_type": "code",
      "execution_count": 11,
      "metadata": {
        "colab": {
          "base_uri": "https://localhost:8080/"
        },
        "id": "MRHqfstC-B7R",
        "outputId": "904a9fce-c8f0-4b67-9b88-0a211007966a"
      },
      "outputs": [
        {
          "output_type": "stream",
          "name": "stdout",
          "text": [
            "[-0.02939107 -0.02840277 -0.02662848 -0.02813761 -0.02856849]\n",
            "0.02822568373730826\n"
          ]
        }
      ],
      "source": [
        "# In k-fold CV, the seed matters. But not so much if our dataset is big enough\n",
        "np.random.seed(5)\n",
        "\n",
        "X = default[['balance','income']]\n",
        "Y = default['default']\n",
        "ols = LinearRegression()\n",
        "\n",
        "cv_scores = cross_val_score(\n",
        "    ols,    # Specified model\n",
        "    X,      # Features\n",
        "    Y,      # Target\n",
        "    cv = 5, # Number of folds\n",
        "    scoring = 'neg_mean_squared_error'  # Metric\n",
        ")\n",
        "\n",
        "print(cv_scores)\n",
        "\n",
        "print(np.mean(-cv_scores))"
      ]
    },
    {
      "cell_type": "markdown",
      "metadata": {
        "id": "Cr07nxUW-B7S"
      },
      "source": [
        "## Best Subset Selection\n",
        "\n",
        "We now switch gears to feature selection. First, let's find the absolute best subset of feature for our dataset.\n",
        "\n",
        "The best subset is defined as the subset of features that predict the target the best. In other words, out of all possible combinations of features, which one has the lowest test error.\n",
        "\n",
        "Likely, the subset of features that will perform best does not contain all available features (model complexity is too high). This is because using all features often leads to overfitting as irrelevant variables improve the training error but harm the test error. Another advantage of feature selection is that by reducing the number of features used, the interpretability of the model increases.\n",
        "\n",
        "Anyways, first we need to get a list of all possible combinations."
      ]
    },
    {
      "cell_type": "code",
      "execution_count": 12,
      "metadata": {
        "colab": {
          "base_uri": "https://localhost:8080/"
        },
        "id": "cdliUiAg-B7S",
        "outputId": "96eb5fdf-dfe2-4610-ec3d-2ddec5c15511"
      },
      "outputs": [
        {
          "output_type": "stream",
          "name": "stdout",
          "text": [
            "[['student'], ['balance'], ['income'], ['student', 'balance'], ['student', 'income'], ['balance', 'income'], ['student', 'balance', 'income']]\n"
          ]
        }
      ],
      "source": [
        "def create_comb_betweenX(X):\n",
        "    '''\n",
        "    Returns a list with all possible combinations\n",
        "    of a given list of features.\n",
        "\n",
        "    Input:\n",
        "        - X (lst of str): the features\n",
        "\n",
        "    Output:\n",
        "        - comb (lst of lst): All possible\n",
        "            combinations\n",
        "    '''\n",
        "    interm = []\n",
        "    for i in range(1, len(X)+1):\n",
        "        interm.extend(list(combinations(X, i)))\n",
        "\n",
        "    comb = []\n",
        "    for i in interm:\n",
        "        comb.append(list(i))\n",
        "\n",
        "    return comb\n",
        "\n",
        "comb = create_comb_betweenX(['student', 'balance', 'income'])\n",
        "print(comb)"
      ]
    },
    {
      "cell_type": "markdown",
      "metadata": {
        "id": "RQTVtX0J-B7S"
      },
      "source": [
        "We can see that we have a list of all possible combinations that contain between 1 and `p` features. (`p = len(X.columns)`)"
      ]
    },
    {
      "cell_type": "code",
      "execution_count": 13,
      "metadata": {
        "colab": {
          "base_uri": "https://localhost:8080/",
          "height": 156
        },
        "id": "3x5vowwO-B7T",
        "outputId": "7aa5e923-f2c1-4269-9b94-169b0a295359"
      },
      "outputs": [
        {
          "output_type": "display_data",
          "data": {
            "text/plain": [
              "{\"['student']\": 0.03216106432340415,\n",
              " \"['balance']\": 0.02825514591275812,\n",
              " \"['income']\": 0.03218892697818138,\n",
              " \"['student', 'balance']\": 0.02821718688532552,\n",
              " \"['student', 'income']\": 0.03216771173480891,\n",
              " \"['balance', 'income']\": 0.02822568373730826,\n",
              " \"['student', 'balance', 'income']\": 0.02822335453257152}"
            ]
          },
          "metadata": {}
        },
        {
          "output_type": "stream",
          "name": "stdout",
          "text": [
            "['student', 'balance']\n"
          ]
        }
      ],
      "source": [
        "#Let's run one regression for every possible combination and store its value\n",
        "comb_dict = {}\n",
        "\n",
        "for i in comb: # For every combination\n",
        "    X = default[i]\n",
        "    Y = default['default']\n",
        "    ols = LinearRegression()\n",
        "    mse = np.mean(-1*cross_val_score(ols, X, Y, cv = 5,scoring = 'neg_mean_squared_error'))\n",
        "    comb_dict[str(i)] = mse\n",
        "\n",
        "display(comb_dict)\n",
        "print(min(comb_dict, key=comb_dict.get))"
      ]
    },
    {
      "cell_type": "markdown",
      "metadata": {
        "id": "hUnsE6Q2-B7T"
      },
      "source": [
        "We can see that the combination of features that best predict whether an individual will default is `student` and `balance`. This hints that `income` is an irrelevant variable when the others are given. This suggests that `income` is highly correlated with at least one of the other variables and thus only adds noise when predicting on the test set.\n",
        "\n",
        "Anyways, now we know which features form the best subset. However, computing all possible combinations is not always feasible. As seen in class, the more features, the larger the data, and the more computationally intensive the model, the longer it takes to compute all possible combinations. Therefore, there is a need for other feature selections methods."
      ]
    },
    {
      "cell_type": "markdown",
      "metadata": {
        "id": "enNtckBX-B7U"
      },
      "source": [
        "## Least Absolute Shrinkage and Selection Operator\n",
        "\n",
        "LASSO essentially works just like OLS, but it prefers models with smaller coefficients. In other words, it shrinks the coefficients (towards 0). We use it against our arch nemesis; overfitting! Logically, by shrinking the parameters, LASSO reduces the model flexibility and thus makes overfitting less likely.\n",
        "\n",
        "The LASSO estimation finds $ \\hat{\\beta}^{L} $'s that satisfy:\n",
        "\n",
        "$$ \\min_{\\hat{\\beta}^{L}} \\underbrace{\\sum_{i=1}^{n}\\left(y_{i}-\\sum_{j=0}^{p}\\hat{\\beta}_{j}^{L}x_{ij}\\right)^{2}}_{Loss\\ Function\\ (e.g.,\\  OLS)} + \\underbrace{\\lambda \\sum_{j=1}^{p}\\left|\\hat{\\beta}_{j}\\right|}_{Penalty} $$\n",
        "\n",
        "where $x_{i0} = 1 \\ \\forall\\ i $\n",
        "\n",
        "$ \\lambda $ is the tuning parameter (also named hyperparameter) that determines how much the coefficients get shrunken by. The larger it is, the smaller the coefficients will be as $ \\lambda $ appears positively in the minimization. To determine its optimal value, we use cross-validation."
      ]
    },
    {
      "cell_type": "code",
      "execution_count": 14,
      "metadata": {
        "colab": {
          "base_uri": "https://localhost:8080/"
        },
        "id": "PChfymo8-B7U",
        "outputId": "25fdee80-49a8-4742-ca42-8d7fd0488b46"
      },
      "outputs": [
        {
          "output_type": "stream",
          "name": "stderr",
          "text": [
            "/usr/local/lib/python3.8/dist-packages/sklearn/model_selection/_validation.py:680: UserWarning: With alpha=0, this algorithm does not converge well. You are advised to use the LinearRegression estimator\n",
            "  estimator.fit(X_train, y_train, **fit_params)\n",
            "/usr/local/lib/python3.8/dist-packages/sklearn/linear_model/_coordinate_descent.py:647: UserWarning: Coordinate descent with no regularization may lead to unexpected results and is discouraged.\n",
            "  model = cd_fast.enet_coordinate_descent(\n",
            "/usr/local/lib/python3.8/dist-packages/sklearn/linear_model/_coordinate_descent.py:647: ConvergenceWarning: Objective did not converge. You might want to increase the number of iterations, check the scale of the features or consider increasing regularisation. Duality gap: 1.116e+02, tolerance: 2.544e-02 Linear regression models with null weight for the l1 regularization term are more efficiently fitted using one of the solvers implemented in sklearn.linear_model.Ridge/RidgeCV instead.\n",
            "  model = cd_fast.enet_coordinate_descent(\n",
            "/usr/local/lib/python3.8/dist-packages/sklearn/model_selection/_validation.py:680: UserWarning: With alpha=0, this algorithm does not converge well. You are advised to use the LinearRegression estimator\n",
            "  estimator.fit(X_train, y_train, **fit_params)\n",
            "/usr/local/lib/python3.8/dist-packages/sklearn/linear_model/_coordinate_descent.py:647: UserWarning: Coordinate descent with no regularization may lead to unexpected results and is discouraged.\n",
            "  model = cd_fast.enet_coordinate_descent(\n",
            "/usr/local/lib/python3.8/dist-packages/sklearn/linear_model/_coordinate_descent.py:647: ConvergenceWarning: Objective did not converge. You might want to increase the number of iterations, check the scale of the features or consider increasing regularisation. Duality gap: 1.126e+02, tolerance: 2.562e-02 Linear regression models with null weight for the l1 regularization term are more efficiently fitted using one of the solvers implemented in sklearn.linear_model.Ridge/RidgeCV instead.\n",
            "  model = cd_fast.enet_coordinate_descent(\n",
            "/usr/local/lib/python3.8/dist-packages/sklearn/model_selection/_validation.py:680: UserWarning: With alpha=0, this algorithm does not converge well. You are advised to use the LinearRegression estimator\n",
            "  estimator.fit(X_train, y_train, **fit_params)\n",
            "/usr/local/lib/python3.8/dist-packages/sklearn/linear_model/_coordinate_descent.py:647: UserWarning: Coordinate descent with no regularization may lead to unexpected results and is discouraged.\n",
            "  model = cd_fast.enet_coordinate_descent(\n",
            "/usr/local/lib/python3.8/dist-packages/sklearn/linear_model/_coordinate_descent.py:647: ConvergenceWarning: Objective did not converge. You might want to increase the number of iterations, check the scale of the features or consider increasing regularisation. Duality gap: 1.144e+02, tolerance: 2.628e-02 Linear regression models with null weight for the l1 regularization term are more efficiently fitted using one of the solvers implemented in sklearn.linear_model.Ridge/RidgeCV instead.\n",
            "  model = cd_fast.enet_coordinate_descent(\n",
            "/usr/local/lib/python3.8/dist-packages/sklearn/model_selection/_validation.py:680: UserWarning: With alpha=0, this algorithm does not converge well. You are advised to use the LinearRegression estimator\n",
            "  estimator.fit(X_train, y_train, **fit_params)\n",
            "/usr/local/lib/python3.8/dist-packages/sklearn/linear_model/_coordinate_descent.py:647: UserWarning: Coordinate descent with no regularization may lead to unexpected results and is discouraged.\n",
            "  model = cd_fast.enet_coordinate_descent(\n",
            "/usr/local/lib/python3.8/dist-packages/sklearn/linear_model/_coordinate_descent.py:647: ConvergenceWarning: Objective did not converge. You might want to increase the number of iterations, check the scale of the features or consider increasing regularisation. Duality gap: 1.128e+02, tolerance: 2.572e-02 Linear regression models with null weight for the l1 regularization term are more efficiently fitted using one of the solvers implemented in sklearn.linear_model.Ridge/RidgeCV instead.\n",
            "  model = cd_fast.enet_coordinate_descent(\n",
            "/usr/local/lib/python3.8/dist-packages/sklearn/model_selection/_validation.py:680: UserWarning: With alpha=0, this algorithm does not converge well. You are advised to use the LinearRegression estimator\n",
            "  estimator.fit(X_train, y_train, **fit_params)\n",
            "/usr/local/lib/python3.8/dist-packages/sklearn/linear_model/_coordinate_descent.py:647: UserWarning: Coordinate descent with no regularization may lead to unexpected results and is discouraged.\n",
            "  model = cd_fast.enet_coordinate_descent(\n",
            "/usr/local/lib/python3.8/dist-packages/sklearn/linear_model/_coordinate_descent.py:647: ConvergenceWarning: Objective did not converge. You might want to increase the number of iterations, check the scale of the features or consider increasing regularisation. Duality gap: 1.125e+02, tolerance: 2.572e-02 Linear regression models with null weight for the l1 regularization term are more efficiently fitted using one of the solvers implemented in sklearn.linear_model.Ridge/RidgeCV instead.\n",
            "  model = cd_fast.enet_coordinate_descent(\n"
          ]
        },
        {
          "output_type": "stream",
          "name": "stdout",
          "text": [
            "{0.0: 0.028223354532571528, 0.05: 0.02822569959887049, 0.1: 0.028225737636547437, 0.15000000000000002: 0.028225797839311412, 0.2: 0.028225880207162417, 0.25: 0.028225984740100452, 0.30000000000000004: 0.028226111438125524, 0.35000000000000003: 0.028226260301237614, 0.4: 0.02822643132943674, 0.45: 0.0282266245227229, 0.5: 0.02822683988109608, 0.55: 0.0282270774045563, 0.6000000000000001: 0.02822733709310355, 0.65: 0.028227618946737826, 0.7000000000000001: 0.02822792296545913, 0.75: 0.02822824914926747, 0.8: 0.02822859749816283, 0.8500000000000001: 0.02822896801214523, 0.9: 0.028229360691214657, 0.9500000000000001: 0.02822977553537111, 1.0: 0.028230212544614598}\n",
            "(1.0, 0.028230212544614598)\n"
          ]
        }
      ],
      "source": [
        "alpha_dict = {}\n",
        "\n",
        "X = default[['student', 'balance', 'income']]\n",
        "Y = default['default']\n",
        "\n",
        "for al in np.linspace(0, 1, 21):\n",
        "    ols_lasso = Lasso(\n",
        "        alpha=al    # Tuning parameter\n",
        "    )\n",
        "\n",
        "    mse = np.mean(\n",
        "        -1*cross_val_score(\n",
        "            ols_lasso,\n",
        "            X,\n",
        "            Y,\n",
        "            cv = 5,\n",
        "            scoring = 'neg_mean_squared_error'\n",
        "        )\n",
        "    )\n",
        "    alpha_dict[al] = mse\n",
        "\n",
        "print(alpha_dict)\n",
        "print(max(alpha_dict.items()))"
      ]
    },
    {
      "cell_type": "markdown",
      "metadata": {
        "id": "zORrGqSi-B7U"
      },
      "source": [
        "We find that the best value for the tuning parameter is $ \\lambda $ = 1. Since this is our upper bound, it indicates that we have not yet converged and you would likely want to try with higher values for $ \\lambda $ as well."
      ]
    },
    {
      "cell_type": "markdown",
      "metadata": {
        "id": "WZ6PAT4E-B7U"
      },
      "source": [
        "## Forward Stepwise Selection\n",
        "\n",
        "The idea of this model is that we want to add the variable that provides the biggest improvement to our model (the one that yields the smallest error). We start with a model that has a constant as its only feature and continue until we run out of variables or see an increase in our error rate.\n",
        "\n",
        "Its algorithm is fairly intuitive:\n",
        "\n",
        "1. For k = 0, let $ M_{0} $ denote the null model (no Xs)\n",
        "2. For k = 1, ..., p:\n",
        "    - Consider all p - k + 1 models that add one predictor to $ M_{k-1} $\n",
        "    - Pick the best (smallest RSS or largest $ R^{2} $) of these models and call it $ M_{k} $\n",
        "3. Select the single best (CV test error, $ C_{p} $, AIC, BIC, or adjusted $ R^{2} $) model among $ M_{0}$, ..., $ M_{p}$"
      ]
    },
    {
      "cell_type": "code",
      "execution_count": 15,
      "metadata": {
        "colab": {
          "base_uri": "https://localhost:8080/"
        },
        "id": "K13Gz1sF-B7V",
        "outputId": "96118e95-9fc2-448c-949f-e8bce10c64d9"
      },
      "outputs": [
        {
          "output_type": "stream",
          "name": "stdout",
          "text": [
            " Initial run with only one var (constant term/only bias weight): ['constant']\n",
            "      Benchmark error: 0.032192381250000006\n",
            "\n",
            "\u001b[1mIteration: 0 \u001b[0m\n",
            " Running model with: ['constant', 'student']\n",
            "      Error: 0.03216106432340414\n",
            " Running model with: ['constant', 'balance']\n",
            "      Error: 0.02825514591275812\n",
            " Running model with: ['constant', 'income']\n",
            "      Error: 0.03218892697818138\n",
            "          *** Variable selected: balance\n",
            "          *** Min error selected: 0.02825514591275812\n",
            "          *** Chose the variable that generated the min error + was lower than previous error\n",
            "\n",
            "\u001b[1mIteration: 1 \u001b[0m\n",
            " Running model with: ['constant', 'balance', 'student']\n",
            "      Error: 0.028217186885325523\n",
            " Running model with: ['constant', 'balance', 'income']\n",
            "      Error: 0.02822568373730826\n",
            "          *** Variable selected: student\n",
            "          *** Min error selected: 0.028217186885325523\n",
            "          *** Chose the variable that generated the min error + was lower than previous error\n",
            "\n",
            "\u001b[1mIteration: 2 \u001b[0m\n",
            " Running model with: ['constant', 'balance', 'student', 'income']\n",
            "      Error: 0.028223354532571528\n",
            "          \u001b[4m*** No variable was selected \u001b[0m\n",
            "          *** Previous error rate ( 0.028217186885325523 ) is lower than smallest error rate of this iteration ( 0.028223354532571528 )\n",
            "          *** Break\n",
            "\n",
            "Variables chosen for our model ['constant', 'balance', 'student']\n"
          ]
        }
      ],
      "source": [
        "# Add constant to dataframe\n",
        "default['constant'] = 1 \n",
        "\n",
        "# Specify target\n",
        "Y = default['default']\n",
        "\n",
        "# Variables to use in forward propagation\n",
        "vars_left_add = ['student', 'balance', 'income'] \n",
        "\n",
        "# Regression type\n",
        "ols = LinearRegression()\n",
        "\n",
        "# Starting variables (constant initially)\n",
        "current_vars = ['constant']\n",
        "\n",
        "X = default[current_vars]\n",
        "benchmark_error = np.mean(-1*cross_val_score(ols, X, Y, cv = 5, scoring = 'neg_mean_squared_error'))\n",
        "print(' Initial run with only one var (constant term/only bias weight):', current_vars)\n",
        "print('      Benchmark error:', benchmark_error)\n",
        "print('')\n",
        "\n",
        "# Keep adding the best variables (until no improvement can be made)\n",
        "for iter in range(len(vars_left_add)):\n",
        "    print('\\033[1m'+ 'Iteration:', iter, '\\033[0m')\n",
        "    error_list = []\n",
        "    # Iterate over all the variables left to add\n",
        "    for var in vars_left_add:\n",
        "        # Modify X according to current iteration\n",
        "        X = default[current_vars + [var]]\n",
        "        # Perform 5-fold CV to get errors\n",
        "        error = np.mean(-1*cross_val_score(ols, X, Y, cv = 5, scoring = 'neg_mean_squared_error'))\n",
        "        error_list.append(error)\n",
        "        print(' Running model with:', current_vars + [var])\n",
        "        print('      Error:', error)\n",
        "\n",
        "    # Chose the smallest error\n",
        "    min_error = min(error_list)\n",
        "    chosen_col_index = error_list.index(min_error)\n",
        "\n",
        "    # If our current smallest error is smaller than our previous error, than we add a variable\n",
        "    if min_error < benchmark_error:\n",
        "        print('          *** Variable selected:', vars_left_add[chosen_col_index])\n",
        "        print('          *** Min error selected:', min_error)\n",
        "        print('          *** Chose the variable that generated the min error + was lower than previous error')\n",
        "        print('')\n",
        "        # Add the variable that produced the smallest error to current_vars\n",
        "        current_vars.append(vars_left_add[chosen_col_index])\n",
        "        # Delete chosen variable from vars_left_add\n",
        "        del vars_left_add[chosen_col_index] \n",
        "        # Update benchmark_error\n",
        "        benchmark_error = min_error\n",
        "    \n",
        "    # Otherwise, we stop our model\n",
        "    else:\n",
        "        print('          \\033[4m*** No variable was selected', '\\033[0m')\n",
        "        print('          *** Previous error rate (', benchmark_error,') is lower than smallest error rate of this iteration (', min_error ,')')\n",
        "        print('          *** Break')\n",
        "        break\n",
        "\n",
        "print('')\n",
        "print('Variables chosen for our model', current_vars)"
      ]
    },
    {
      "cell_type": "markdown",
      "metadata": {
        "id": "C2WT343v-B7V"
      },
      "source": [
        "We see that forward stepwise selection chooses the model with a constant, `balance`, and `student` as the features while excluding `income`. luckily, this coincides with the best subset selection we performed previously. However, there is no guarantee that we do find the best model from all possible combinations with forward stepwise selection."
      ]
    },
    {
      "cell_type": "markdown",
      "metadata": {
        "id": "v4tsmR6Q-B7V"
      },
      "source": [
        "## Backward Stepwise Selection\n",
        "The idea of this model is that we want to remove the variable that is not adding predictive power to our model (one that we can remove without increasing our error). We start with a full model (using all of our variables) and drop variables until we see an increase in our error rate or end up with only a constant. The idea remains the exact same as in forward stepwise selection, but we start at a different point.\n",
        "\n",
        "The algorithm goes as follows:\n",
        "\n",
        "1. For k = p, let $ M_{p} $ denote the fully specified model (all Xs)\n",
        "2. For k = p-1, ..., 0:\n",
        "    - Consider all p - k + 1 models that remove one predictor from $ M_{k+1} $\n",
        "    - Pick the best (smallest RSS or largest $ R^{2} $) of these models and call it $ M_{k} $\n",
        "3. Select the single best (CV test error, $ C_{p} $, AIC, BIC, or adjusted $ R^{2} $) model among $ M_{0}$, ..., $ M_{p}$"
      ]
    },
    {
      "cell_type": "code",
      "execution_count": 16,
      "metadata": {
        "colab": {
          "base_uri": "https://localhost:8080/"
        },
        "id": "-mrFqvVu-B7W",
        "outputId": "aae4c35f-deb9-485f-92e6-a1063bed00eb"
      },
      "outputs": [
        {
          "output_type": "stream",
          "name": "stdout",
          "text": [
            " Initial run with all vars: ['constant', 'student', 'balance', 'income']\n",
            "      Benchmark error: 0.02822335453257151\n",
            "\n",
            "\u001b[1mIteration: 0 \u001b[0m\n",
            " Running model with: ['constant', 'balance', 'income']\n",
            "      Error: 0.02822568373730826\n",
            " Running model with: ['constant', 'student', 'income']\n",
            "      Error: 0.032167711734808854\n",
            " Running model with: ['constant', 'student', 'balance']\n",
            "      Error: 0.02821718688532552\n",
            "          *** Will drop: income\n",
            "          *** Min error selected: 0.02821718688532552\n",
            "          *** Chose the variable that generated the min error + was lower than previous error\n",
            "\n",
            "\u001b[1mIteration: 1 \u001b[0m\n",
            " Running model with: ['constant', 'balance']\n",
            "      Error: 0.02825514591275812\n",
            " Running model with: ['constant', 'student']\n",
            "      Error: 0.03216106432340414\n",
            "          \u001b[4m*** No variable was selected \u001b[0m\n",
            "          *** Previous error rate ( 0.02821718688532552 ) is lower than smallest error rate of this iteration ( 0.02825514591275812 )\n",
            "          *** Break\n",
            "\n",
            "Variables chosen for our model ['constant', 'student', 'balance']\n"
          ]
        }
      ],
      "source": [
        "# Add constant to dataframe\n",
        "default['constant'] = 1 \n",
        "\n",
        "# Specify the target\n",
        "Y = default['default']\n",
        "\n",
        "# Variables to remove iteratively\n",
        "vars_left_to_drop = ['student', 'balance', 'income'] \n",
        "\n",
        "# Regression type\n",
        "ols = LinearRegression()\n",
        "\n",
        "# Starting variables (all)\n",
        "current_vars = ['constant'] + vars_left_to_drop\n",
        "\n",
        "X = default[current_vars]\n",
        "benchmark_error = np.mean(-1*cross_val_score(ols, X, Y, cv = 5, scoring = 'neg_mean_squared_error'))\n",
        "print(' Initial run with all vars:', current_vars)\n",
        "print('      Benchmark error:', benchmark_error)\n",
        "print('')\n",
        "\n",
        "# Keep removing the worst variables (until no improvement can be made)\n",
        "for iter in range(len(vars_left_to_drop)):\n",
        "    print('\\033[1m'+ 'Iteration:', iter, '\\033[0m')\n",
        "    error_list = []\n",
        "    # Iterate over all the variables left to remove\n",
        "    for var in vars_left_to_drop:\n",
        "        # Modify X according to current iteration\n",
        "        vars_to_be_used = ['constant'] + [i for i in vars_left_to_drop if i != var]\n",
        "        X = default[['constant'] + [i for i in vars_left_to_drop if i != var]]\n",
        "        # Perform 5-fold CV to get errors\n",
        "        error = np.mean(-1*cross_val_score(ols, X, Y, cv = 5, scoring = 'neg_mean_squared_error'))\n",
        "        error_list.append(error)\n",
        "        print(' Running model with:', vars_to_be_used)\n",
        "        print('      Error:', error)\n",
        "\n",
        "    # Chose the largest error\n",
        "    min_error = min(error_list)\n",
        "    chosen_col_index = error_list.index(min_error)\n",
        "\n",
        "    # If our current smallest error is smaller than our previous error, then we drop the variable associated with it\n",
        "    if min_error < benchmark_error:\n",
        "        print('          *** Will drop:', vars_left_to_drop[chosen_col_index])\n",
        "        print('          *** Min error selected:', min_error)\n",
        "        print('          *** Chose the variable that generated the min error + was lower than previous error')\n",
        "        print('')\n",
        "        # Delete chosen variable from current_vars and vars_left_to_drop\n",
        "        del current_vars[chosen_col_index + 1]\n",
        "        del vars_left_to_drop[chosen_col_index]\n",
        "        # Update benchmark_error\n",
        "        benchmark_error = min_error\n",
        "    \n",
        "    # If not, we keep our model\n",
        "    else:\n",
        "        print('          \\033[4m*** No variable was selected', '\\033[0m')\n",
        "        print('          *** Previous error rate (', benchmark_error,') is lower than smallest error rate of this iteration (', min_error ,')')\n",
        "        print('          *** Break')\n",
        "        break\n",
        "\n",
        "print('')\n",
        "print('Variables chosen for our model', current_vars)\n"
      ]
    },
    {
      "cell_type": "markdown",
      "metadata": {
        "id": "o65z-4yE-B7X"
      },
      "source": [
        "Just as best subset and forward stepwise selection, backward stepwise selection chooses the model with a constant, `balance`, and `student` as the features while excluding `income`. However, there is no guarantee that their choices are the same. Indeed, as `p` becomes larger, it becomes increasingly likely for forward and backward stepwise selection to yield different models."
      ]
    }
  ],
  "metadata": {
    "kernelspec": {
      "display_name": "Python 3",
      "language": "python",
      "name": "python3"
    },
    "language_info": {
      "codemirror_mode": {
        "name": "ipython",
        "version": 3
      },
      "file_extension": ".py",
      "mimetype": "text/x-python",
      "name": "python",
      "nbconvert_exporter": "python",
      "pygments_lexer": "ipython3",
      "version": "3.10.2"
    },
    "vscode": {
      "interpreter": {
        "hash": "26de051ba29f2982a8de78e945f0abaf191376122a1563185a90213a26c5da77"
      }
    },
    "colab": {
      "provenance": [],
      "include_colab_link": true
    }
  },
  "nbformat": 4,
  "nbformat_minor": 0
}